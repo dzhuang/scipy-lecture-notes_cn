{
 "cells": [
  {
   "cell_type": "markdown",
   "metadata": {},
   "source": [
    "> 作者：Emmanuelle Gouillart、Didrik Pinte、Gaël Varoquaux 和 Pauli Virtanen\n",
    "\n",
    "本章给出关于Numpy概述，Numpy是Python中高效数值计算的核心工具。"
   ]
  },
  {
   "cell_type": "markdown",
   "metadata": {},
   "source": [
    "### 1.3.1 Numpy array对象\n",
    "\n",
    "#### 1.3.1.1 什么是Numpy以及Numpy array?\n",
    "\n",
    "##### Numpy array\n",
    " \n",
    " | 对象 | 特点|\n",
    " |:------|:-----|\n",
    " |**Python对象：** | <ul><li>高级数值对象：整数、浮点 </li><li> 容器：列表（无成本插入和附加），字典（快速查找）</li></ul>|\n",
    " |**Numpy提供：** | <ul><li>对于多维数组的Python扩展包</li><li>更贴近硬件（高效）</li><li>为科学计算设计（方便）</li><li>也称为*面向数组计算*</li></ul>|"
   ]
  },
  {
   "cell_type": "code",
   "execution_count": 1,
   "metadata": {
    "run_control": {
     "frozen": false,
     "read_only": false
    }
   },
   "outputs": [
    {
     "data": {
      "text/plain": [
       "array([0, 1, 2, 3])"
      ]
     },
     "execution_count": 1,
     "metadata": {},
     "output_type": "execute_result"
    }
   ],
   "source": [
    "import numpy as np\n",
    "a = np.array([0, 1, 2, 3])\n",
    "a"
   ]
  },
  {
   "cell_type": "markdown",
   "metadata": {},
   "source": [
    "例如，一个array中包含：\n",
    "\n",
    "* 实验或模拟在离散时间阶段的值\n",
    "* 测量设备记录的信号，比如声波\n",
    "* 图像的像素、灰度或颜色\n",
    "* 用不同X-Y-Z位置测量的3-D数据，例如MRI扫描\n",
    "* ..."
   ]
  },
  {
   "cell_type": "markdown",
   "metadata": {},
   "source": [
    "**为什么有用：**因为它提供了高速数值操作的、节省内存的容器。"
   ]
  },
  {
   "cell_type": "code",
   "execution_count": 2,
   "metadata": {
    "run_control": {
     "frozen": false,
     "read_only": false
    }
   },
   "outputs": [
    {
     "name": "stdout",
     "output_type": "stream",
     "text": [
      "10000 loops, best of 3: 93.7 µs per loop\n"
     ]
    }
   ],
   "source": [
    "L = range(1000)\n",
    "%timeit [i**2 for i in L]"
   ]
  },
  {
   "cell_type": "code",
   "execution_count": 3,
   "metadata": {
    "run_control": {
     "frozen": false,
     "read_only": false
    }
   },
   "outputs": [
    {
     "name": "stdout",
     "output_type": "stream",
     "text": [
      "100000 loops, best of 3: 2.16 µs per loop\n"
     ]
    }
   ],
   "source": [
    "a = np.arange(1000)\n",
    "%timeit a**2"
   ]
  },
  {
   "cell_type": "markdown",
   "metadata": {},
   "source": [
    "##### Numpy参考文档\n",
    "\n",
    "* 在线文档: http://docs.scipy.org/\n",
    "* 交互式帮助:\n",
    "\n",
    "```python\n",
    ">>> help(np.array)\n",
    "Help on built-in function array in module numpy.core.multiarray:\n",
    "\n",
    "  array(...)\n",
    "     array(object, dtype=None, ...\n",
    "```\n",
    "\n",
    "* 查找帮助：\n",
    "\n",
    "```python\n",
    ">>> np.lookfor('create array') # doctest: +SKIP\n",
    "Search results for 'create array'\n",
    "---------------------------------\n",
    "numpy.array\n",
    "   Create an array.\n",
    "numpy.memmap\n",
    "   Create a memory-map to an array stored in a *binary* file on disk.\n",
    "```\n"
   ]
  },
  {
   "cell_type": "code",
   "execution_count": 4,
   "metadata": {},
   "outputs": [
    {
     "name": "stdout",
     "output_type": "stream",
     "text": [
      "np.concatenate\n",
      "np.conj\n",
      "np.conjugate\n",
      "np.convolve\n"
     ]
    }
   ],
   "source": [
    "np.con*?"
   ]
  },
  {
   "cell_type": "markdown",
   "metadata": {},
   "source": [
    "##### import的惯例\n",
    "\n",
    "推荐导入numpy的惯例是：\n",
    "\n",
    "```python\n",
    ">>> import numpy as np\n",
    "```"
   ]
  },
  {
   "cell_type": "markdown",
   "metadata": {},
   "source": [
    "#### 1.3.1.2 创建array"
   ]
  },
  {
   "cell_type": "markdown",
   "metadata": {},
   "source": [
    "##### 手动构建array\n",
    "\n",
    "* **1-D**："
   ]
  },
  {
   "cell_type": "code",
   "execution_count": 5,
   "metadata": {
    "run_control": {
     "frozen": false,
     "read_only": false
    }
   },
   "outputs": [
    {
     "data": {
      "text/plain": [
       "array([0, 1, 2, 3])"
      ]
     },
     "execution_count": 5,
     "metadata": {},
     "output_type": "execute_result"
    }
   ],
   "source": [
    "a = np.array([0, 1, 2, 3])\n",
    "a"
   ]
  },
  {
   "cell_type": "code",
   "execution_count": 6,
   "metadata": {
    "run_control": {
     "frozen": false,
     "read_only": false
    }
   },
   "outputs": [
    {
     "data": {
      "text/plain": [
       "1"
      ]
     },
     "execution_count": 6,
     "metadata": {},
     "output_type": "execute_result"
    }
   ],
   "source": [
    "a.ndim"
   ]
  },
  {
   "cell_type": "code",
   "execution_count": 7,
   "metadata": {
    "run_control": {
     "frozen": false,
     "read_only": false
    }
   },
   "outputs": [
    {
     "data": {
      "text/plain": [
       "(4,)"
      ]
     },
     "execution_count": 7,
     "metadata": {},
     "output_type": "execute_result"
    }
   ],
   "source": [
    "a.shape"
   ]
  },
  {
   "cell_type": "code",
   "execution_count": 8,
   "metadata": {
    "run_control": {
     "frozen": false,
     "read_only": false
    }
   },
   "outputs": [
    {
     "data": {
      "text/plain": [
       "4"
      ]
     },
     "execution_count": 8,
     "metadata": {},
     "output_type": "execute_result"
    }
   ],
   "source": [
    "len(a)"
   ]
  },
  {
   "cell_type": "markdown",
   "metadata": {},
   "source": [
    "* **2-D, 3-D, ...**："
   ]
  },
  {
   "cell_type": "code",
   "execution_count": 9,
   "metadata": {
    "run_control": {
     "frozen": false,
     "read_only": false
    }
   },
   "outputs": [
    {
     "data": {
      "text/plain": [
       "array([[0, 1, 2],\n",
       "       [3, 4, 5]])"
      ]
     },
     "execution_count": 9,
     "metadata": {},
     "output_type": "execute_result"
    }
   ],
   "source": [
    "b = np.array([[0, 1, 2], [3, 4, 5]])    # 2 x 3 array\n",
    "b"
   ]
  },
  {
   "cell_type": "code",
   "execution_count": 10,
   "metadata": {
    "run_control": {
     "frozen": false,
     "read_only": false
    }
   },
   "outputs": [
    {
     "data": {
      "text/plain": [
       "2"
      ]
     },
     "execution_count": 10,
     "metadata": {},
     "output_type": "execute_result"
    }
   ],
   "source": [
    "b.ndim"
   ]
  },
  {
   "cell_type": "code",
   "execution_count": 11,
   "metadata": {
    "run_control": {
     "frozen": false,
     "read_only": false
    }
   },
   "outputs": [
    {
     "data": {
      "text/plain": [
       "(2, 3)"
      ]
     },
     "execution_count": 11,
     "metadata": {},
     "output_type": "execute_result"
    }
   ],
   "source": [
    "b.shape"
   ]
  },
  {
   "cell_type": "code",
   "execution_count": 12,
   "metadata": {
    "run_control": {
     "frozen": false,
     "read_only": false
    }
   },
   "outputs": [
    {
     "data": {
      "text/plain": [
       "2"
      ]
     },
     "execution_count": 12,
     "metadata": {},
     "output_type": "execute_result"
    }
   ],
   "source": [
    "len(b)     # 返回维度的大小"
   ]
  },
  {
   "cell_type": "code",
   "execution_count": 13,
   "metadata": {
    "run_control": {
     "frozen": false,
     "read_only": false
    }
   },
   "outputs": [
    {
     "data": {
      "text/plain": [
       "array([[[1],\n",
       "        [2]],\n",
       "\n",
       "       [[3],\n",
       "        [4]]])"
      ]
     },
     "execution_count": 13,
     "metadata": {},
     "output_type": "execute_result"
    }
   ],
   "source": [
    "c = np.array([[[1], [2]], [[3], [4]]])\n",
    "c"
   ]
  },
  {
   "cell_type": "code",
   "execution_count": 14,
   "metadata": {
    "run_control": {
     "frozen": false,
     "read_only": false
    }
   },
   "outputs": [
    {
     "data": {
      "text/plain": [
       "(2, 2, 1)"
      ]
     },
     "execution_count": 14,
     "metadata": {},
     "output_type": "execute_result"
    }
   ],
   "source": [
    "c.shape"
   ]
  },
  {
   "cell_type": "markdown",
   "metadata": {},
   "source": [
    "### **练习：简单array**\n",
    "\n",
    "* 创建一个简单的二维array。首先，重复上面的例子。然后接着你自己的：在第一行从后向前数奇数，接着第二行数偶数？\n",
    "* 在这些array上使用函数[len()](http://docs.python.org/2.7/library/functions.html#len)、numpy.shape()。他们有什么关系？与array的`ndim`属性间呢？"
   ]
  },
  {
   "cell_type": "markdown",
   "metadata": {},
   "source": [
    "##### 用函数创建array\n",
    "\n",
    "实际上，我们很少一项一项地输入...\n",
    "\n",
    "* 均匀数据："
   ]
  },
  {
   "cell_type": "code",
   "execution_count": 15,
   "metadata": {
    "run_control": {
     "frozen": false,
     "read_only": false
    }
   },
   "outputs": [
    {
     "data": {
      "text/plain": [
       "array([0, 1, 2, 3, 4, 5, 6, 7, 8, 9])"
      ]
     },
     "execution_count": 15,
     "metadata": {},
     "output_type": "execute_result"
    }
   ],
   "source": [
    "a = np.arange(10) # 0 .. n-1  (!)\n",
    "a"
   ]
  },
  {
   "cell_type": "code",
   "execution_count": 16,
   "metadata": {
    "run_control": {
     "frozen": false,
     "read_only": false
    }
   },
   "outputs": [
    {
     "data": {
      "text/plain": [
       "array([1, 3, 5, 7])"
      ]
     },
     "execution_count": 16,
     "metadata": {},
     "output_type": "execute_result"
    }
   ],
   "source": [
    "b = np.arange(1, 9, 2) # 开始，结束（不包含），步长\n",
    "b"
   ]
  },
  {
   "cell_type": "markdown",
   "metadata": {},
   "source": [
    "* 或者通过一些数据点："
   ]
  },
  {
   "cell_type": "code",
   "execution_count": 17,
   "metadata": {
    "run_control": {
     "frozen": false,
     "read_only": false
    }
   },
   "outputs": [
    {
     "data": {
      "text/plain": [
       "array([ 0. ,  0.2,  0.4,  0.6,  0.8,  1. ])"
      ]
     },
     "execution_count": 17,
     "metadata": {},
     "output_type": "execute_result"
    }
   ],
   "source": [
    "c = np.linspace(0, 1, 6)   # 起点、终点、数据点\n",
    "c"
   ]
  },
  {
   "cell_type": "code",
   "execution_count": 18,
   "metadata": {
    "run_control": {
     "frozen": false,
     "read_only": false
    }
   },
   "outputs": [
    {
     "data": {
      "text/plain": [
       "array([ 0. ,  0.2,  0.4,  0.6,  0.8])"
      ]
     },
     "execution_count": 18,
     "metadata": {},
     "output_type": "execute_result"
    }
   ],
   "source": [
    "d = np.linspace(0, 1, 5, endpoint=False)\n",
    "d"
   ]
  },
  {
   "cell_type": "markdown",
   "metadata": {},
   "source": [
    "* 常用的array："
   ]
  },
  {
   "cell_type": "code",
   "execution_count": 19,
   "metadata": {
    "run_control": {
     "frozen": false,
     "read_only": false
    }
   },
   "outputs": [
    {
     "data": {
      "text/plain": [
       "array([[ 1.,  1.,  1.],\n",
       "       [ 1.,  1.,  1.],\n",
       "       [ 1.,  1.,  1.]])"
      ]
     },
     "execution_count": 19,
     "metadata": {},
     "output_type": "execute_result"
    }
   ],
   "source": [
    "a = np.ones((3, 3))  # 提示: (3, 3) 是一个tuple\n",
    "a"
   ]
  },
  {
   "cell_type": "code",
   "execution_count": 20,
   "metadata": {
    "run_control": {
     "frozen": false,
     "read_only": false
    }
   },
   "outputs": [
    {
     "data": {
      "text/plain": [
       "array([[ 0.,  0.],\n",
       "       [ 0.,  0.]])"
      ]
     },
     "execution_count": 20,
     "metadata": {},
     "output_type": "execute_result"
    }
   ],
   "source": [
    "b = np.zeros((2, 2))\n",
    "b"
   ]
  },
  {
   "cell_type": "code",
   "execution_count": 21,
   "metadata": {
    "run_control": {
     "frozen": false,
     "read_only": false
    }
   },
   "outputs": [
    {
     "data": {
      "text/plain": [
       "array([[ 1.,  0.,  0.],\n",
       "       [ 0.,  1.,  0.],\n",
       "       [ 0.,  0.,  1.]])"
      ]
     },
     "execution_count": 21,
     "metadata": {},
     "output_type": "execute_result"
    }
   ],
   "source": [
    "c = np.eye(3)\n",
    "c"
   ]
  },
  {
   "cell_type": "code",
   "execution_count": 22,
   "metadata": {
    "run_control": {
     "frozen": false,
     "read_only": false
    }
   },
   "outputs": [
    {
     "data": {
      "text/plain": [
       "array([[1, 0, 0, 0],\n",
       "       [0, 2, 0, 0],\n",
       "       [0, 0, 3, 0],\n",
       "       [0, 0, 0, 4]])"
      ]
     },
     "execution_count": 22,
     "metadata": {},
     "output_type": "execute_result"
    }
   ],
   "source": [
    "d = np.diag(np.array([1, 2, 3, 4]))\n",
    "d"
   ]
  },
  {
   "cell_type": "markdown",
   "metadata": {},
   "source": [
    "* ``np.random``: 随机数 (Mersenne Twister PRNG) :"
   ]
  },
  {
   "cell_type": "code",
   "execution_count": 23,
   "metadata": {
    "run_control": {
     "frozen": false,
     "read_only": false
    }
   },
   "outputs": [
    {
     "data": {
      "text/plain": [
       "array([ 0.04506247,  0.13787144,  0.38581752,  0.02926018])"
      ]
     },
     "execution_count": 23,
     "metadata": {},
     "output_type": "execute_result"
    }
   ],
   "source": [
    "a = np.random.rand(4)       # 取值为[0, 1]内的uniform(均匀)分布\n",
    "a"
   ]
  },
  {
   "cell_type": "code",
   "execution_count": 24,
   "metadata": {
    "run_control": {
     "frozen": false,
     "read_only": false
    }
   },
   "outputs": [
    {
     "data": {
      "text/plain": [
       "array([-0.35591965, -0.53299689,  1.94866954,  0.97826793])"
      ]
     },
     "execution_count": 24,
     "metadata": {},
     "output_type": "execute_result"
    }
   ],
   "source": [
    "b = np.random.randn(4)      # 取值为Gaussian(高斯)分布\n",
    "b"
   ]
  },
  {
   "cell_type": "code",
   "execution_count": 25,
   "metadata": {
    "collapsed": true,
    "run_control": {
     "frozen": false,
     "read_only": false
    }
   },
   "outputs": [],
   "source": [
    "np.random.seed(1234)        # 设置随机种子"
   ]
  },
  {
   "cell_type": "markdown",
   "metadata": {},
   "source": [
    "### **练习：用函数创建array**\n",
    "* 实验用`arange`、`linspace`、`ones`、`zeros`、`eye`和`diag`。\n",
    "* 用随机数创建不同类型的array。\n",
    "* 尝试在创建有随机数的array前设定种子。\n",
    "* 查看函数`np.empty`的文档。它能做什么？什么时候会比较有用？"
   ]
  },
  {
   "cell_type": "markdown",
   "metadata": {},
   "source": [
    "#### 1.3.1.3 基本数据类型"
   ]
  },
  {
   "cell_type": "markdown",
   "metadata": {},
   "source": [
    "你可能已经注意到，在一些情况下，array元素在显示时会带有一个点（即 `2.` 而不是 `2`）。这是因为它使用了不同的数据类型(data-type)："
   ]
  },
  {
   "cell_type": "code",
   "execution_count": 26,
   "metadata": {
    "run_control": {
     "frozen": false,
     "read_only": false
    }
   },
   "outputs": [
    {
     "name": "stdout",
     "output_type": "stream",
     "text": [
      "[1 2 3]\n"
     ]
    },
    {
     "data": {
      "text/plain": [
       "dtype('int32')"
      ]
     },
     "execution_count": 26,
     "metadata": {},
     "output_type": "execute_result"
    }
   ],
   "source": [
    "a = np.array([1, 2, 3])\n",
    "print(a)\n",
    "a.dtype"
   ]
  },
  {
   "cell_type": "code",
   "execution_count": 27,
   "metadata": {
    "run_control": {
     "frozen": false,
     "read_only": false
    }
   },
   "outputs": [
    {
     "name": "stdout",
     "output_type": "stream",
     "text": [
      "[ 1.  2.  3.]\n"
     ]
    },
    {
     "data": {
      "text/plain": [
       "dtype('float64')"
      ]
     },
     "execution_count": 27,
     "metadata": {},
     "output_type": "execute_result"
    }
   ],
   "source": [
    "b = np.array([1., 2., 3.])\n",
    "print(b)\n",
    "b.dtype"
   ]
  },
  {
   "cell_type": "markdown",
   "metadata": {},
   "source": [
    "不同的数据类型让我们能够更紧凑地在内存中存储数据，不过大多数时候我们都只操作浮点数(floating point number)。注意，在上面的例子中，Numpy自动从输入中识别了数据类型。\n",
    "____"
   ]
  },
  {
   "cell_type": "markdown",
   "metadata": {},
   "source": [
    "你可以明确指定想使用的数据类型："
   ]
  },
  {
   "cell_type": "code",
   "execution_count": 28,
   "metadata": {
    "run_control": {
     "frozen": false,
     "read_only": false
    }
   },
   "outputs": [
    {
     "data": {
      "text/plain": [
       "dtype('float64')"
      ]
     },
     "execution_count": 28,
     "metadata": {},
     "output_type": "execute_result"
    }
   ],
   "source": [
    "c = np.array([1, 2, 3], dtype=float)\n",
    "c.dtype"
   ]
  },
  {
   "cell_type": "markdown",
   "metadata": {},
   "source": [
    "**默认**数据类型是浮点:"
   ]
  },
  {
   "cell_type": "code",
   "execution_count": 29,
   "metadata": {
    "run_control": {
     "frozen": false,
     "read_only": false
    }
   },
   "outputs": [
    {
     "data": {
      "text/plain": [
       "dtype('float64')"
      ]
     },
     "execution_count": 29,
     "metadata": {},
     "output_type": "execute_result"
    }
   ],
   "source": [
    "a = np.ones((3, 3))\n",
    "a.dtype"
   ]
  },
  {
   "cell_type": "markdown",
   "metadata": {},
   "source": [
    "还有其他的类型：\n",
    "\n",
    "**complex(复数)**："
   ]
  },
  {
   "cell_type": "code",
   "execution_count": 30,
   "metadata": {
    "run_control": {
     "frozen": false,
     "read_only": false
    }
   },
   "outputs": [
    {
     "data": {
      "text/plain": [
       "dtype('complex128')"
      ]
     },
     "execution_count": 30,
     "metadata": {},
     "output_type": "execute_result"
    }
   ],
   "source": [
    "d = np.array([1+2j, 3+4j, 5+6*1j])\n",
    "d.dtype"
   ]
  },
  {
   "cell_type": "markdown",
   "metadata": {},
   "source": [
    "**bool(布尔)**："
   ]
  },
  {
   "cell_type": "code",
   "execution_count": 31,
   "metadata": {
    "run_control": {
     "frozen": false,
     "read_only": false
    }
   },
   "outputs": [
    {
     "data": {
      "text/plain": [
       "dtype('bool')"
      ]
     },
     "execution_count": 31,
     "metadata": {},
     "output_type": "execute_result"
    }
   ],
   "source": [
    "e = np.array([True, False, False, True])\n",
    "e.dtype"
   ]
  },
  {
   "cell_type": "markdown",
   "metadata": {},
   "source": [
    "**string(字符串)**："
   ]
  },
  {
   "cell_type": "code",
   "execution_count": 32,
   "metadata": {
    "run_control": {
     "frozen": false,
     "read_only": false
    }
   },
   "outputs": [
    {
     "data": {
      "text/plain": [
       "dtype('S7')"
      ]
     },
     "execution_count": 32,
     "metadata": {},
     "output_type": "execute_result"
    }
   ],
   "source": [
    "f = np.array(['Bonjour', 'Hello', 'Hallo',])\n",
    "f.dtype     # <--- 所有字符串中，最长的包含了7个字符"
   ]
  },
  {
   "cell_type": "markdown",
   "metadata": {},
   "source": [
    "**更多**：\n",
    "\n",
    "* int32\n",
    "* int64\n",
    "* unit32\n",
    "* unit64"
   ]
  },
  {
   "cell_type": "markdown",
   "metadata": {},
   "source": [
    "#### 1.3.1.4 基本的可视化\n",
    "\n",
    "现在我们有了第一组array，下面我们要对它们进行可视化。\n",
    "\n",
    "启动IPython:\n",
    "\n",
    "```\n",
    "$ ipython\n",
    "```\n",
    "\n",
    "或者notebook：\n",
    "\n",
    "```\n",
    "$ ipython notebook  # 注：对于更新的版本，应使用 juptypter notebook\n",
    "```\n",
    "\n",
    "一旦IPython已经启动，则启用互动式绘图：\n",
    "```python\n",
    ">>> %matplotlib\n",
    "```\n",
    "\n",
    "或者，如果你是用notebook方式，则在notebook中启用绘图\n",
    "```python\n",
    ">>> %matplotlib inline\n",
    "```\n",
    "\n",
    "加上`inline`很重要，因为这样图形就在notebook中显示，而不是在一个新窗口中显示."
   ]
  },
  {
   "cell_type": "markdown",
   "metadata": {},
   "source": [
    "*Matplotlib*是一个2D制图包。我们可以像这样导入它的各种方法："
   ]
  },
  {
   "cell_type": "code",
   "execution_count": 33,
   "metadata": {
    "collapsed": true,
    "run_control": {
     "frozen": false,
     "read_only": false
    }
   },
   "outputs": [],
   "source": [
    "import matplotlib.pyplot as plt  #简洁的导入形式"
   ]
  },
  {
   "cell_type": "markdown",
   "metadata": {},
   "source": [
    "然后通过以下方式来绘图（注意，如果你没有通过`%matplotlib`来启用交互式绘图，那么你必须通过显式的使用 `show` 来显示图形）:\n",
    "\n",
    "```python\n",
    "plt.plot(x, y)       # 线形图\n",
    "plt.show()           # <-- 显示图形（不需要使用交互式绘图）\n",
    "```\n",
    "\n",
    "或者，如果你通过`%matplotlib`启用了交互式绘图，则：\n",
    "\n",
    "```python\n",
    "plt.plot(x, y)       # 线形图\n",
    "```"
   ]
  },
  {
   "cell_type": "markdown",
   "metadata": {},
   "source": [
    "* 1D 作图："
   ]
  },
  {
   "cell_type": "code",
   "execution_count": 34,
   "metadata": {
    "run_control": {
     "frozen": false,
     "read_only": false
    }
   },
   "outputs": [
    {
     "data": {
      "text/plain": [
       "[<matplotlib.lines.Line2D at 0xb900c50>]"
      ]
     },
     "execution_count": 34,
     "metadata": {},
     "output_type": "execute_result"
    }
   ],
   "source": [
    "x = np.linspace(0, 3, 20)\n",
    "y = np.linspace(0, 9, 20)\n",
    "plt.plot(x, y)       # 线形图"
   ]
  },
  {
   "cell_type": "code",
   "execution_count": 35,
   "metadata": {
    "run_control": {
     "frozen": false,
     "read_only": false
    },
    "scrolled": true
   },
   "outputs": [
    {
     "data": {
      "text/plain": [
       "[<matplotlib.lines.Line2D at 0x986efd0>]"
      ]
     },
     "execution_count": 35,
     "metadata": {},
     "output_type": "execute_result"
    }
   ],
   "source": [
    "plt.plot(x, y, 'o')  # 点图"
   ]
  },
  {
   "cell_type": "markdown",
   "metadata": {},
   "source": [
    "* 2D array(比如图形):"
   ]
  },
  {
   "cell_type": "code",
   "execution_count": 36,
   "metadata": {
    "run_control": {
     "frozen": false,
     "read_only": false
    }
   },
   "outputs": [
    {
     "data": {
      "text/plain": [
       "<matplotlib.colorbar.Colorbar at 0xb965748>"
      ]
     },
     "execution_count": 36,
     "metadata": {},
     "output_type": "execute_result"
    }
   ],
   "source": [
    "image = np.random.rand(30, 30)\n",
    "plt.imshow(image, cmap=plt.cm.hot)    \n",
    "plt.colorbar()    "
   ]
  },
  {
   "cell_type": "markdown",
   "metadata": {},
   "source": [
    "更多请见[matplotlib部分](http://localhost:8889/notebooks/1.4Matplotlib%EF%BC%9A%E7%BB%98%E5%9B%BE.ipynb)"
   ]
  },
  {
   "cell_type": "markdown",
   "metadata": {},
   "source": [
    "### **练习**：简单可视化\n",
    "\n",
    "* 画出一些简单的array：一个以cosine化的时间函数，以及一个2D矩阵.\n",
    "* 在2D矩阵上尝试使用 `gray` colormap."
   ]
  },
  {
   "cell_type": "markdown",
   "metadata": {},
   "source": [
    "##### index(索引)与slice(切片)\n",
    "\n",
    "array中的项目可以用与其他Python序列（比如：`list`）一样的方式访问和赋值："
   ]
  },
  {
   "cell_type": "code",
   "execution_count": 37,
   "metadata": {
    "run_control": {
     "frozen": false,
     "read_only": false
    }
   },
   "outputs": [
    {
     "data": {
      "text/plain": [
       "array([0, 1, 2, 3, 4, 5, 6, 7, 8, 9])"
      ]
     },
     "execution_count": 37,
     "metadata": {},
     "output_type": "execute_result"
    }
   ],
   "source": [
    "a = np.arange(10)\n",
    "a"
   ]
  },
  {
   "cell_type": "code",
   "execution_count": 38,
   "metadata": {
    "run_control": {
     "frozen": false,
     "read_only": false
    }
   },
   "outputs": [
    {
     "data": {
      "text/plain": [
       "(0, 2, 9)"
      ]
     },
     "execution_count": 38,
     "metadata": {},
     "output_type": "execute_result"
    }
   ],
   "source": [
    "a[0], a[2], a[-1]"
   ]
  },
  {
   "cell_type": "markdown",
   "metadata": {},
   "source": [
    "**警示**：index从0开始，这与其他的Python序列（以及C/C++）是一致的。与此相对，Fortran或者Matlab中的index从1开始。"
   ]
  },
  {
   "cell_type": "markdown",
   "metadata": {},
   "source": [
    "array也支持python中反转一个序列的常用方法："
   ]
  },
  {
   "cell_type": "code",
   "execution_count": 39,
   "metadata": {
    "run_control": {
     "frozen": false,
     "read_only": false
    }
   },
   "outputs": [
    {
     "data": {
      "text/plain": [
       "array([9, 8, 7, 6, 5, 4, 3, 2, 1, 0])"
      ]
     },
     "execution_count": 39,
     "metadata": {},
     "output_type": "execute_result"
    }
   ],
   "source": [
    "a[::-1]"
   ]
  },
  {
   "cell_type": "markdown",
   "metadata": {},
   "source": [
    "对于多维array，index是由整数构成的tuple："
   ]
  },
  {
   "cell_type": "code",
   "execution_count": 40,
   "metadata": {
    "run_control": {
     "frozen": false,
     "read_only": false
    }
   },
   "outputs": [
    {
     "data": {
      "text/plain": [
       "array([[0, 0, 0],\n",
       "       [0, 1, 0],\n",
       "       [0, 0, 2]])"
      ]
     },
     "execution_count": 40,
     "metadata": {},
     "output_type": "execute_result"
    }
   ],
   "source": [
    "a = np.diag(np.arange(3))\n",
    "a"
   ]
  },
  {
   "cell_type": "code",
   "execution_count": 41,
   "metadata": {
    "run_control": {
     "frozen": false,
     "read_only": false
    }
   },
   "outputs": [
    {
     "data": {
      "text/plain": [
       "1"
      ]
     },
     "execution_count": 41,
     "metadata": {},
     "output_type": "execute_result"
    }
   ],
   "source": [
    "a[1, 1]"
   ]
  },
  {
   "cell_type": "code",
   "execution_count": 42,
   "metadata": {
    "run_control": {
     "frozen": false,
     "read_only": false
    }
   },
   "outputs": [
    {
     "data": {
      "text/plain": [
       "array([[ 0,  0,  0],\n",
       "       [ 0,  1,  0],\n",
       "       [ 0, 10,  2]])"
      ]
     },
     "execution_count": 42,
     "metadata": {},
     "output_type": "execute_result"
    }
   ],
   "source": [
    "a[2, 1] = 10 # 第3行，第2列\n",
    "a"
   ]
  },
  {
   "cell_type": "code",
   "execution_count": 43,
   "metadata": {
    "run_control": {
     "frozen": false,
     "read_only": false
    }
   },
   "outputs": [
    {
     "data": {
      "text/plain": [
       "array([0, 1, 0])"
      ]
     },
     "execution_count": 43,
     "metadata": {},
     "output_type": "execute_result"
    }
   ],
   "source": [
    "a[1]"
   ]
  },
  {
   "cell_type": "markdown",
   "metadata": {},
   "source": [
    "**注意**：\n",
    "\n",
    "* 在2D array中，第一个维度对应**行**，第二个维度对应**列**.\n",
    "* 对于多维度array `a`，`a[0]`被解释为提取所有其它未指定维度的元素."
   ]
  },
  {
   "cell_type": "markdown",
   "metadata": {},
   "source": [
    "**slice(切片)**：与其他Python序列一样，array也可以进行切片操作："
   ]
  },
  {
   "cell_type": "code",
   "execution_count": 44,
   "metadata": {
    "run_control": {
     "frozen": false,
     "read_only": false
    }
   },
   "outputs": [
    {
     "data": {
      "text/plain": [
       "array([0, 1, 2, 3, 4, 5, 6, 7, 8, 9])"
      ]
     },
     "execution_count": 44,
     "metadata": {},
     "output_type": "execute_result"
    }
   ],
   "source": [
    "a = np.arange(10)\n",
    "a"
   ]
  },
  {
   "cell_type": "code",
   "execution_count": 45,
   "metadata": {
    "run_control": {
     "frozen": false,
     "read_only": false
    }
   },
   "outputs": [
    {
     "data": {
      "text/plain": [
       "array([2, 5, 8])"
      ]
     },
     "execution_count": 45,
     "metadata": {},
     "output_type": "execute_result"
    }
   ],
   "source": [
    "a[2:9:3]  # [start:end:step]"
   ]
  },
  {
   "cell_type": "markdown",
   "metadata": {},
   "source": [
    "注意：最末的index不包含在返回值内！："
   ]
  },
  {
   "cell_type": "code",
   "execution_count": 46,
   "metadata": {
    "run_control": {
     "frozen": false,
     "read_only": false
    }
   },
   "outputs": [
    {
     "data": {
      "text/plain": [
       "array([0, 1, 2, 3])"
      ]
     },
     "execution_count": 46,
     "metadata": {},
     "output_type": "execute_result"
    }
   ],
   "source": [
    "a[:4]"
   ]
  },
  {
   "cell_type": "markdown",
   "metadata": {},
   "source": [
    "slice中的的三个组成部分(`start`, `end`和`stop`(步长))都不是必须声明的：默认情况下，`start`为0，`end`为最末的index，`step`为1："
   ]
  },
  {
   "cell_type": "code",
   "execution_count": 47,
   "metadata": {
    "run_control": {
     "frozen": false,
     "read_only": false
    }
   },
   "outputs": [
    {
     "data": {
      "text/plain": [
       "array([1, 2])"
      ]
     },
     "execution_count": 47,
     "metadata": {},
     "output_type": "execute_result"
    }
   ],
   "source": [
    "a[1:3]"
   ]
  },
  {
   "cell_type": "code",
   "execution_count": 48,
   "metadata": {
    "run_control": {
     "frozen": false,
     "read_only": false
    }
   },
   "outputs": [
    {
     "data": {
      "text/plain": [
       "array([0, 2, 4, 6, 8])"
      ]
     },
     "execution_count": 48,
     "metadata": {},
     "output_type": "execute_result"
    }
   ],
   "source": [
    "a[::2]"
   ]
  },
  {
   "cell_type": "code",
   "execution_count": 49,
   "metadata": {
    "run_control": {
     "frozen": false,
     "read_only": false
    }
   },
   "outputs": [
    {
     "data": {
      "text/plain": [
       "array([3, 4, 5, 6, 7, 8, 9])"
      ]
     },
     "execution_count": 49,
     "metadata": {},
     "output_type": "execute_result"
    }
   ],
   "source": [
    "a[3:]"
   ]
  },
  {
   "cell_type": "markdown",
   "metadata": {},
   "source": [
    "关于Numpy的index和slice的一个简要的图示...\n",
    "\n",
    "<img style=\"width:70%\"   src=\"data:image/png;base64,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\" alt=\"numpy_indexing.png\"></img>"
   ]
  },
  {
   "cell_type": "markdown",
   "metadata": {},
   "source": [
    "还可以把赋值和slice结合起来："
   ]
  },
  {
   "cell_type": "code",
   "execution_count": 50,
   "metadata": {
    "run_control": {
     "frozen": false,
     "read_only": false
    }
   },
   "outputs": [
    {
     "data": {
      "text/plain": [
       "array([ 0,  1,  2,  3,  4, 10, 10, 10, 10, 10])"
      ]
     },
     "execution_count": 50,
     "metadata": {},
     "output_type": "execute_result"
    }
   ],
   "source": [
    "a = np.arange(10)\n",
    "a[5:] = 10\n",
    "a"
   ]
  },
  {
   "cell_type": "code",
   "execution_count": 51,
   "metadata": {
    "run_control": {
     "frozen": false,
     "read_only": false
    }
   },
   "outputs": [
    {
     "data": {
      "text/plain": [
       "array([0, 1, 2, 3, 4, 4, 3, 2, 1, 0])"
      ]
     },
     "execution_count": 51,
     "metadata": {},
     "output_type": "execute_result"
    }
   ],
   "source": [
    "b = np.arange(5)\n",
    "a[5:] = b[::-1]\n",
    "a"
   ]
  },
  {
   "cell_type": "markdown",
   "metadata": {},
   "source": [
    "### **练习：索引与切片**\n",
    "* 尝试不同方式的slice，使用`start`, `end`和`step`：从一个linspace开始，试着从后往前获得所有的奇数，从前往后获得所有的偶数.\n",
    "* 重新生成上面图示中的slice. 你可以使用下列表达式创建这个array："
   ]
  },
  {
   "cell_type": "code",
   "execution_count": 52,
   "metadata": {
    "run_control": {
     "frozen": false,
     "read_only": false
    }
   },
   "outputs": [
    {
     "data": {
      "text/plain": [
       "array([[ 0,  1,  2,  3,  4,  5],\n",
       "       [10, 11, 12, 13, 14, 15],\n",
       "       [20, 21, 22, 23, 24, 25],\n",
       "       [30, 31, 32, 33, 34, 35],\n",
       "       [40, 41, 42, 43, 44, 45],\n",
       "       [50, 51, 52, 53, 54, 55]])"
      ]
     },
     "execution_count": 52,
     "metadata": {},
     "output_type": "execute_result"
    }
   ],
   "source": [
    "np.arange(6) + np.arange(0, 51, 10)[:, np.newaxis]"
   ]
  },
  {
   "cell_type": "markdown",
   "metadata": {},
   "source": [
    "### **练习：array的创建**\n",
    "\n",
    "创建下列的array（用正确的数据类型）：\n",
    "\n",
    "```python\n",
    "[[1, 1, 1, 1],\n",
    " [1, 1, 1, 1],\n",
    " [1, 1, 1, 2],\n",
    " [1, 6, 1, 1]]\n",
    "\n",
    "[[0., 0., 0., 0., 0.],\n",
    " [2., 0., 0., 0., 0.],\n",
    " [0., 3., 0., 0., 0.],\n",
    " [0., 0., 4., 0., 0.],\n",
    " [0., 0., 0., 5., 0.],\n",
    " [0., 0., 0., 0., 6.]]\n",
    "```\n",
    "\n",
    "达标标准：用3种不同的方式创建各个array\n",
    "\n",
    "*提示*：array中的所有单一元素可以像list一样访问，即`a[1]` 或 `a[1, 2]`.\n",
    "\n",
    "*提示*：查看``diag``的文档."
   ]
  },
  {
   "cell_type": "markdown",
   "metadata": {},
   "source": [
    "### **练习：创建平铺array**\n",
    "\n",
    "查看 ``np.tile`` 的文档，并用该函数创建这个array：\n",
    "\n",
    "```python\n",
    "[[4, 3, 4, 3, 4, 3],\n",
    " [2, 1, 2, 1, 2, 1],\n",
    " [4, 3, 4, 3, 4, 3],\n",
    " [2, 1, 2, 1, 2, 1]]\n",
    "```"
   ]
  },
  {
   "cell_type": "markdown",
   "metadata": {},
   "source": [
    "#### 1.3.1.6 copy(副本)与view(视图)\n",
    "\n",
    "slice操作是在原array上创建了一个**view**，它只是访问array数据一种方式。因此，内存中并没有创建原始的array的副本。你可以用 `np.may_share_memory()` 来检查两个array是否共享了同一个内存区块。不过要注意，这种方式的目的在于启发，不要因此产生误解."
   ]
  },
  {
   "cell_type": "markdown",
   "metadata": {},
   "source": [
    "**当修改view时，原array也会被修改**："
   ]
  },
  {
   "cell_type": "code",
   "execution_count": 53,
   "metadata": {
    "run_control": {
     "frozen": false,
     "read_only": false
    }
   },
   "outputs": [
    {
     "data": {
      "text/plain": [
       "array([0, 1, 2, 3, 4, 5, 6, 7, 8, 9])"
      ]
     },
     "execution_count": 53,
     "metadata": {},
     "output_type": "execute_result"
    }
   ],
   "source": [
    "a = np.arange(10)\n",
    "a"
   ]
  },
  {
   "cell_type": "code",
   "execution_count": 54,
   "metadata": {
    "run_control": {
     "frozen": false,
     "read_only": false
    }
   },
   "outputs": [
    {
     "data": {
      "text/plain": [
       "array([0, 2, 4, 6, 8])"
      ]
     },
     "execution_count": 54,
     "metadata": {},
     "output_type": "execute_result"
    }
   ],
   "source": [
    "b = a[::2]\n",
    "b"
   ]
  },
  {
   "cell_type": "code",
   "execution_count": 55,
   "metadata": {
    "run_control": {
     "frozen": false,
     "read_only": false
    }
   },
   "outputs": [
    {
     "data": {
      "text/plain": [
       "True"
      ]
     },
     "execution_count": 55,
     "metadata": {},
     "output_type": "execute_result"
    }
   ],
   "source": [
    "np.may_share_memory(a, b)"
   ]
  },
  {
   "cell_type": "code",
   "execution_count": 56,
   "metadata": {
    "run_control": {
     "frozen": false,
     "read_only": false
    }
   },
   "outputs": [
    {
     "data": {
      "text/plain": [
       "array([12,  2,  4,  6,  8])"
      ]
     },
     "execution_count": 56,
     "metadata": {},
     "output_type": "execute_result"
    }
   ],
   "source": [
    "b[0] = 12\n",
    "b"
   ]
  },
  {
   "cell_type": "code",
   "execution_count": 57,
   "metadata": {
    "run_control": {
     "frozen": false,
     "read_only": false
    }
   },
   "outputs": [
    {
     "data": {
      "text/plain": [
       "array([12,  1,  2,  3,  4,  5,  6,  7,  8,  9])"
      ]
     },
     "execution_count": 57,
     "metadata": {},
     "output_type": "execute_result"
    }
   ],
   "source": [
    "a   # (!)"
   ]
  },
  {
   "cell_type": "code",
   "execution_count": 58,
   "metadata": {
    "run_control": {
     "frozen": false,
     "read_only": false
    }
   },
   "outputs": [
    {
     "data": {
      "text/plain": [
       "array([0, 1, 2, 3, 4, 5, 6, 7, 8, 9])"
      ]
     },
     "execution_count": 58,
     "metadata": {},
     "output_type": "execute_result"
    }
   ],
   "source": [
    "a = np.arange(10)\n",
    "c = a[::2].copy()  # c是强制创建的一个副本\n",
    "c[0] = 12\n",
    "a"
   ]
  },
  {
   "cell_type": "code",
   "execution_count": 59,
   "metadata": {
    "run_control": {
     "frozen": false,
     "read_only": false
    }
   },
   "outputs": [
    {
     "data": {
      "text/plain": [
       "False"
      ]
     },
     "execution_count": 59,
     "metadata": {},
     "output_type": "execute_result"
    }
   ],
   "source": [
    "np.may_share_memory(a, c)"
   ]
  },
  {
   "cell_type": "markdown",
   "metadata": {},
   "source": [
    "这种行为乍看可能有些意外...但是这样做能够节约内存和时间。"
   ]
  },
  {
   "cell_type": "markdown",
   "metadata": {},
   "source": [
    "**实例：素数筛选(prime number sieve)**\n",
    "\n",
    "<img style=\"width: 50%\" src=\"data:image/png;base64,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\" alt=\"prime-sieve.png\"></img>\n",
    "\n",
    "用筛选法（sieve)计算0-99之间的所有素数\n",
    "\n",
    "* 构建一个形状为`(100,)`的布尔array，命名为`is_prime`，所有元素的初始值都设为`True`："
   ]
  },
  {
   "cell_type": "code",
   "execution_count": 60,
   "metadata": {
    "collapsed": true,
    "run_control": {
     "frozen": false,
     "read_only": false
    }
   },
   "outputs": [],
   "source": [
    "is_prime = np.ones((100,), dtype=bool)"
   ]
  },
  {
   "cell_type": "markdown",
   "metadata": {},
   "source": [
    "* 将0和1去掉，因为它们不是素数"
   ]
  },
  {
   "cell_type": "code",
   "execution_count": 61,
   "metadata": {
    "collapsed": true,
    "run_control": {
     "frozen": false,
     "read_only": false
    }
   },
   "outputs": [],
   "source": [
    "is_prime[:2] = 0"
   ]
  },
  {
   "cell_type": "markdown",
   "metadata": {},
   "source": [
    "对于每个从2开始的整数`j`，去掉它的倍数："
   ]
  },
  {
   "cell_type": "code",
   "execution_count": 62,
   "metadata": {
    "collapsed": true,
    "run_control": {
     "frozen": false,
     "read_only": false
    }
   },
   "outputs": [],
   "source": [
    "N_max = int(np.sqrt(len(is_prime)))\n",
    "for j in range(2, N_max):\n",
    "    is_prime[2*j::j] = False"
   ]
  },
  {
   "cell_type": "markdown",
   "metadata": {},
   "source": [
    "* 看一下`help(np.nonzero)`，然后打印素数\n",
    "* 接下来:\n",
    "    * 将上面的代码放入名为 `prime_sieve.py` 的脚本文件\n",
    "    * 运行以检查它是否能工作\n",
    "    * 使用[埃拉托斯特尼筛法(the sieve of Eratosthenes)](http://en.wikipedia.org/wiki/Sieve_of_Eratosthenes)中提出的优化方法:\n",
    "        1. 跳过已知不是素数的`j`\n",
    "        1. 第一个应该被去掉的数是$j^2$"
   ]
  },
  {
   "cell_type": "markdown",
   "metadata": {},
   "source": [
    "#### 1.3.1.7 fancy index(美妙索引)\n",
    "\n",
    "Numpy array可以用slice(切片)来index(索引)，也可以用布尔或整形array(mask掩码)来index。这个方法也被称为fancy index。注意：fancy index创建的是***原array的copy(副本)而不是view(视图)**。"
   ]
  },
  {
   "cell_type": "markdown",
   "metadata": {},
   "source": [
    "##### 使用boolean mask(布尔掩码)"
   ]
  },
  {
   "cell_type": "code",
   "execution_count": 63,
   "metadata": {
    "run_control": {
     "frozen": false,
     "read_only": false
    }
   },
   "outputs": [
    {
     "data": {
      "text/plain": [
       "array([10,  3,  8,  0, 19, 10, 11,  9, 10,  6,  0, 20, 12,  7, 14])"
      ]
     },
     "execution_count": 63,
     "metadata": {},
     "output_type": "execute_result"
    }
   ],
   "source": [
    "np.random.seed(3)\n",
    "a = np.random.randint(0, 21, 15)\n",
    "a"
   ]
  },
  {
   "cell_type": "code",
   "execution_count": 64,
   "metadata": {
    "run_control": {
     "frozen": false,
     "read_only": false
    }
   },
   "outputs": [
    {
     "data": {
      "text/plain": [
       "array([False,  True, False,  True, False, False, False,  True, False,\n",
       "        True,  True, False,  True, False, False], dtype=bool)"
      ]
     },
     "execution_count": 64,
     "metadata": {},
     "output_type": "execute_result"
    }
   ],
   "source": [
    "(a % 3 == 0)"
   ]
  },
  {
   "cell_type": "code",
   "execution_count": 65,
   "metadata": {
    "run_control": {
     "frozen": false,
     "read_only": false
    }
   },
   "outputs": [
    {
     "data": {
      "text/plain": [
       "array([ 3,  0,  9,  6,  0, 12])"
      ]
     },
     "execution_count": 65,
     "metadata": {},
     "output_type": "execute_result"
    }
   ],
   "source": [
    "mask = (a % 3 == 0)\n",
    "extract_from_a = a[mask] # 或,  a[a%3==0]\n",
    "extract_from_a           # 用mask抽取一个子array"
   ]
  },
  {
   "cell_type": "markdown",
   "metadata": {},
   "source": [
    "在赋值给子array时，使用mask来进行index是非常有用的："
   ]
  },
  {
   "cell_type": "code",
   "execution_count": 66,
   "metadata": {
    "run_control": {
     "frozen": false,
     "read_only": false
    }
   },
   "outputs": [
    {
     "data": {
      "text/plain": [
       "array([10, -1,  8, -1, 19, 10, 11, -1, 10, -1, -1, 20, -1,  7, 14])"
      ]
     },
     "execution_count": 66,
     "metadata": {},
     "output_type": "execute_result"
    }
   ],
   "source": [
    "a[a % 3 == 0] = -1\n",
    "a"
   ]
  },
  {
   "cell_type": "markdown",
   "metadata": {},
   "source": [
    "##### 用整型数组来进行index"
   ]
  },
  {
   "cell_type": "code",
   "execution_count": 67,
   "metadata": {
    "run_control": {
     "frozen": false,
     "read_only": false
    }
   },
   "outputs": [
    {
     "data": {
      "text/plain": [
       "array([ 0, 10, 20, 30, 40, 50, 60, 70, 80, 90])"
      ]
     },
     "execution_count": 67,
     "metadata": {},
     "output_type": "execute_result"
    }
   ],
   "source": [
    "a = np.arange(0, 100, 10)\n",
    "a"
   ]
  },
  {
   "cell_type": "markdown",
   "metadata": {},
   "source": [
    "索引可以用整型数组来完成，其中相同的index可以重复若干次："
   ]
  },
  {
   "cell_type": "code",
   "execution_count": 68,
   "metadata": {
    "run_control": {
     "frozen": false,
     "read_only": false
    }
   },
   "outputs": [
    {
     "data": {
      "text/plain": [
       "array([20, 30, 20, 40, 20])"
      ]
     },
     "execution_count": 68,
     "metadata": {},
     "output_type": "execute_result"
    }
   ],
   "source": [
    "a[[2, 3, 2, 4, 2]]  # 注：这里使用的整形数组 [2, 3, 2, 4, 2] 是一个Python list"
   ]
  },
  {
   "cell_type": "markdown",
   "metadata": {},
   "source": [
    "这种类型的索引可以用来给array中的元素赋予新值："
   ]
  },
  {
   "cell_type": "code",
   "execution_count": 69,
   "metadata": {
    "run_control": {
     "frozen": false,
     "read_only": false
    }
   },
   "outputs": [
    {
     "data": {
      "text/plain": [
       "array([   0,   10,   20,   30,   40,   50,   60, -100,   80, -100])"
      ]
     },
     "execution_count": 69,
     "metadata": {},
     "output_type": "execute_result"
    }
   ],
   "source": [
    "a[[9, 7]] = -100\n",
    "a"
   ]
  },
  {
   "cell_type": "markdown",
   "metadata": {},
   "source": [
    "当通过整型数组索引创建了一个新的array时，新array与整型数组有相同的形状，而不是原array："
   ]
  },
  {
   "cell_type": "code",
   "execution_count": 70,
   "metadata": {
    "run_control": {
     "frozen": false,
     "read_only": false
    }
   },
   "outputs": [
    {
     "data": {
      "text/plain": [
       "(2, 2)"
      ]
     },
     "execution_count": 70,
     "metadata": {},
     "output_type": "execute_result"
    }
   ],
   "source": [
    "a = np.arange(10)\n",
    "idx = np.array([[3, 4], [9, 7]])\n",
    "idx.shape"
   ]
  },
  {
   "cell_type": "code",
   "execution_count": 71,
   "metadata": {
    "run_control": {
     "frozen": false,
     "read_only": false
    }
   },
   "outputs": [
    {
     "data": {
      "text/plain": [
       "array([[3, 4],\n",
       "       [9, 7]])"
      ]
     },
     "execution_count": 71,
     "metadata": {},
     "output_type": "execute_result"
    }
   ],
   "source": [
    "a[idx]"
   ]
  },
  {
   "cell_type": "markdown",
   "metadata": {},
   "source": [
    "-----------------------------------------\n",
    "下图展示了各种fancy index的应用\n",
    "<img style=\"width: 70%\" src=\"data:image/png;base64,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\" alt=\"numpy_fancy_indexing.png\"></img>"
   ]
  },
  {
   "cell_type": "markdown",
   "metadata": {},
   "source": [
    "### **扩展练习：fancy index**\n",
    "* 同前，重新生成上图中所示的fancy index.\n",
    "* 为array赋值: 表达式左侧使用fancy index，表达式右侧创建array，例如，将上图array中的某些部分设为0."
   ]
  },
  {
   "cell_type": "markdown",
   "metadata": {},
   "source": [
    "### 1.3.2 array上的的数值操作"
   ]
  },
  {
   "cell_type": "markdown",
   "metadata": {},
   "source": [
    "#### 1.3.2.1 元素级操作"
   ]
  },
  {
   "cell_type": "markdown",
   "metadata": {},
   "source": [
    "##### 基本操作"
   ]
  },
  {
   "cell_type": "markdown",
   "metadata": {},
   "source": [
    "标量:"
   ]
  },
  {
   "cell_type": "code",
   "execution_count": 72,
   "metadata": {
    "run_control": {
     "frozen": false,
     "read_only": false
    }
   },
   "outputs": [
    {
     "data": {
      "text/plain": [
       "array([2, 3, 4, 5])"
      ]
     },
     "execution_count": 72,
     "metadata": {},
     "output_type": "execute_result"
    }
   ],
   "source": [
    "a = np.array([1, 2, 3, 4])\n",
    "a + 1"
   ]
  },
  {
   "cell_type": "code",
   "execution_count": 73,
   "metadata": {
    "run_control": {
     "frozen": false,
     "read_only": false
    }
   },
   "outputs": [
    {
     "data": {
      "text/plain": [
       "array([ 2,  4,  8, 16], dtype=int32)"
      ]
     },
     "execution_count": 73,
     "metadata": {},
     "output_type": "execute_result"
    }
   ],
   "source": [
    "2**a"
   ]
  },
  {
   "cell_type": "markdown",
   "metadata": {},
   "source": [
    "所有运算是在元素级别上操作："
   ]
  },
  {
   "cell_type": "code",
   "execution_count": 74,
   "metadata": {
    "run_control": {
     "frozen": false,
     "read_only": false
    }
   },
   "outputs": [
    {
     "data": {
      "text/plain": [
       "array([-1.,  0.,  1.,  2.])"
      ]
     },
     "execution_count": 74,
     "metadata": {},
     "output_type": "execute_result"
    }
   ],
   "source": [
    "b = np.ones(4) + 1\n",
    "a - b"
   ]
  },
  {
   "cell_type": "code",
   "execution_count": 75,
   "metadata": {
    "run_control": {
     "frozen": false,
     "read_only": false
    }
   },
   "outputs": [
    {
     "data": {
      "text/plain": [
       "array([ 2.,  4.,  6.,  8.])"
      ]
     },
     "execution_count": 75,
     "metadata": {},
     "output_type": "execute_result"
    }
   ],
   "source": [
    "a * b"
   ]
  },
  {
   "cell_type": "code",
   "execution_count": 76,
   "metadata": {
    "run_control": {
     "frozen": false,
     "read_only": false
    }
   },
   "outputs": [
    {
     "data": {
      "text/plain": [
       "array([ 2,  3,  6, 13, 28])"
      ]
     },
     "execution_count": 76,
     "metadata": {},
     "output_type": "execute_result"
    }
   ],
   "source": [
    "j = np.arange(5)\n",
    "2**(j + 1) - j"
   ]
  },
  {
   "cell_type": "markdown",
   "metadata": {},
   "source": [
    "当然，这些操作也比你用纯Python实现快得多："
   ]
  },
  {
   "cell_type": "code",
   "execution_count": 77,
   "metadata": {
    "run_control": {
     "frozen": false,
     "read_only": false
    }
   },
   "outputs": [
    {
     "name": "stdout",
     "output_type": "stream",
     "text": [
      "14.6 µs ± 1.43 µs per loop (mean ± std. dev. of 7 runs, 100000 loops each)\n"
     ]
    }
   ],
   "source": [
    "a = np.arange(10000)\n",
    "%timeit a + 1 "
   ]
  },
  {
   "cell_type": "code",
   "execution_count": 78,
   "metadata": {
    "run_control": {
     "frozen": false,
     "read_only": false
    }
   },
   "outputs": [
    {
     "name": "stdout",
     "output_type": "stream",
     "text": [
      "1.16 ms ± 98.2 µs per loop (mean ± std. dev. of 7 runs, 1000 loops each)\n"
     ]
    }
   ],
   "source": [
    "l = range(10000)\n",
    "%timeit [i+1 for i in l] "
   ]
  },
  {
   "cell_type": "markdown",
   "metadata": {},
   "source": [
    "**注意：array相乘不是矩阵相乘：**"
   ]
  },
  {
   "cell_type": "code",
   "execution_count": 79,
   "metadata": {
    "run_control": {
     "frozen": false,
     "read_only": false
    }
   },
   "outputs": [
    {
     "data": {
      "text/plain": [
       "array([[ 1.,  1.,  1.],\n",
       "       [ 1.,  1.,  1.],\n",
       "       [ 1.,  1.,  1.]])"
      ]
     },
     "execution_count": 79,
     "metadata": {},
     "output_type": "execute_result"
    }
   ],
   "source": [
    "c = np.ones((3, 3))\n",
    "c * c                   # 不是矩阵相乘！"
   ]
  },
  {
   "cell_type": "markdown",
   "metadata": {},
   "source": [
    "**注：矩阵相乘：**"
   ]
  },
  {
   "cell_type": "code",
   "execution_count": 80,
   "metadata": {
    "run_control": {
     "frozen": false,
     "read_only": false
    }
   },
   "outputs": [
    {
     "data": {
      "text/plain": [
       "array([[ 3.,  3.,  3.],\n",
       "       [ 3.,  3.,  3.],\n",
       "       [ 3.,  3.,  3.]])"
      ]
     },
     "execution_count": 80,
     "metadata": {},
     "output_type": "execute_result"
    }
   ],
   "source": [
    "c.dot(c)"
   ]
  },
  {
   "cell_type": "markdown",
   "metadata": {},
   "source": [
    "### **练习：元素级别的操作**\n",
    "\n",
    "* 尝试各种元素级别的简单算术操作\n",
    "* 用 `%timeit` 比较一下它们与纯Python对等操作的时间差异\n",
    "* 生成：\n",
    "    * `[2**0, 2**1, 2**2, 2**3, 2**4]`\n",
    "    * `a_j = 2^(3*j) - j`"
   ]
  },
  {
   "cell_type": "markdown",
   "metadata": {},
   "source": [
    "##### 其他操作"
   ]
  },
  {
   "cell_type": "markdown",
   "metadata": {},
   "source": [
    "* **比较：**"
   ]
  },
  {
   "cell_type": "code",
   "execution_count": 81,
   "metadata": {
    "run_control": {
     "frozen": false,
     "read_only": false
    }
   },
   "outputs": [
    {
     "data": {
      "text/plain": [
       "array([False,  True, False,  True], dtype=bool)"
      ]
     },
     "execution_count": 81,
     "metadata": {},
     "output_type": "execute_result"
    }
   ],
   "source": [
    "a = np.array([1, 2, 3, 4])\n",
    "b = np.array([4, 2, 2, 4])\n",
    "a == b"
   ]
  },
  {
   "cell_type": "code",
   "execution_count": 82,
   "metadata": {
    "run_control": {
     "frozen": false,
     "read_only": false
    }
   },
   "outputs": [
    {
     "data": {
      "text/plain": [
       "array([False, False,  True, False], dtype=bool)"
      ]
     },
     "execution_count": 82,
     "metadata": {},
     "output_type": "execute_result"
    }
   ],
   "source": [
    "a > b"
   ]
  },
  {
   "cell_type": "markdown",
   "metadata": {},
   "source": [
    "array级别的比较："
   ]
  },
  {
   "cell_type": "code",
   "execution_count": 83,
   "metadata": {
    "run_control": {
     "frozen": false,
     "read_only": false
    }
   },
   "outputs": [
    {
     "data": {
      "text/plain": [
       "False"
      ]
     },
     "execution_count": 83,
     "metadata": {},
     "output_type": "execute_result"
    }
   ],
   "source": [
    "a = np.array([1, 2, 3, 4])\n",
    "b = np.array([4, 2, 2, 4])\n",
    "c = np.array([1, 2, 3, 4])\n",
    "np.array_equal(a, b)"
   ]
  },
  {
   "cell_type": "code",
   "execution_count": 84,
   "metadata": {
    "run_control": {
     "frozen": false,
     "read_only": false
    }
   },
   "outputs": [
    {
     "data": {
      "text/plain": [
       "True"
      ]
     },
     "execution_count": 84,
     "metadata": {},
     "output_type": "execute_result"
    }
   ],
   "source": [
    "np.array_equal(a, c)"
   ]
  },
  {
   "cell_type": "markdown",
   "metadata": {},
   "source": [
    "* **logical(逻辑)操作**："
   ]
  },
  {
   "cell_type": "code",
   "execution_count": 85,
   "metadata": {
    "run_control": {
     "frozen": false,
     "read_only": false
    }
   },
   "outputs": [
    {
     "data": {
      "text/plain": [
       "array([ True,  True,  True, False], dtype=bool)"
      ]
     },
     "execution_count": 85,
     "metadata": {},
     "output_type": "execute_result"
    }
   ],
   "source": [
    "a = np.array([1, 1, 0, 0], dtype=bool)\n",
    "b = np.array([1, 0, 1, 0], dtype=bool)\n",
    "np.logical_or(a, b)"
   ]
  },
  {
   "cell_type": "code",
   "execution_count": 86,
   "metadata": {
    "run_control": {
     "frozen": false,
     "read_only": false
    }
   },
   "outputs": [
    {
     "data": {
      "text/plain": [
       "array([ True, False, False, False], dtype=bool)"
      ]
     },
     "execution_count": 86,
     "metadata": {},
     "output_type": "execute_result"
    }
   ],
   "source": [
    "np.logical_and(a, b)"
   ]
  },
  {
   "cell_type": "markdown",
   "metadata": {},
   "source": [
    "* **transcendental function([超越函数(可简单理解为非算术类函数)](https://en.wikipedia.org/wiki/Transcendental_function))**"
   ]
  },
  {
   "cell_type": "code",
   "execution_count": 87,
   "metadata": {
    "run_control": {
     "frozen": false,
     "read_only": false
    }
   },
   "outputs": [
    {
     "data": {
      "text/plain": [
       "array([ 0.        ,  0.84147098,  0.90929743,  0.14112001, -0.7568025 ])"
      ]
     },
     "execution_count": 87,
     "metadata": {},
     "output_type": "execute_result"
    }
   ],
   "source": [
    "a = np.arange(5)\n",
    "np.sin(a)"
   ]
  },
  {
   "cell_type": "code",
   "execution_count": 88,
   "metadata": {
    "run_control": {
     "frozen": false,
     "read_only": false
    }
   },
   "outputs": [
    {
     "data": {
      "text/plain": [
       "array([       -inf,  0.        ,  0.69314718,  1.09861229,  1.38629436])"
      ]
     },
     "execution_count": 88,
     "metadata": {},
     "output_type": "execute_result"
    }
   ],
   "source": [
    "np.log(a)"
   ]
  },
  {
   "cell_type": "code",
   "execution_count": 89,
   "metadata": {
    "run_control": {
     "frozen": false,
     "read_only": false
    }
   },
   "outputs": [
    {
     "data": {
      "text/plain": [
       "array([  1.        ,   2.71828183,   7.3890561 ,  20.08553692,  54.59815003])"
      ]
     },
     "execution_count": 89,
     "metadata": {},
     "output_type": "execute_result"
    }
   ],
   "source": [
    "np.exp(a)"
   ]
  },
  {
   "cell_type": "markdown",
   "metadata": {},
   "source": [
    "* **形状不匹配**"
   ]
  },
  {
   "cell_type": "code",
   "execution_count": 90,
   "metadata": {
    "run_control": {
     "frozen": false,
     "read_only": false
    }
   },
   "outputs": [
    {
     "ename": "ValueError",
     "evalue": "operands could not be broadcast together with shapes (4,) (2,) ",
     "output_type": "error",
     "traceback": [
      "\u001b[1;31m---------------------------------------------------------------------------\u001b[0m",
      "\u001b[1;31mValueError\u001b[0m                                Traceback (most recent call last)",
      "\u001b[1;32m<ipython-input-90-659bcd508c9e>\u001b[0m in \u001b[0;36m<module>\u001b[1;34m()\u001b[0m\n\u001b[0;32m      1\u001b[0m \u001b[0ma\u001b[0m \u001b[1;33m=\u001b[0m \u001b[0mnp\u001b[0m\u001b[1;33m.\u001b[0m\u001b[0marange\u001b[0m\u001b[1;33m(\u001b[0m\u001b[1;36m4\u001b[0m\u001b[1;33m)\u001b[0m\u001b[1;33m\u001b[0m\u001b[0m\n\u001b[1;32m----> 2\u001b[1;33m \u001b[0ma\u001b[0m \u001b[1;33m+\u001b[0m \u001b[0mnp\u001b[0m\u001b[1;33m.\u001b[0m\u001b[0marray\u001b[0m\u001b[1;33m(\u001b[0m\u001b[1;33m[\u001b[0m\u001b[1;36m1\u001b[0m\u001b[1;33m,\u001b[0m \u001b[1;36m2\u001b[0m\u001b[1;33m]\u001b[0m\u001b[1;33m)\u001b[0m\u001b[1;33m\u001b[0m\u001b[0m\n\u001b[0m",
      "\u001b[1;31mValueError\u001b[0m: operands could not be broadcast together with shapes (4,) (2,) "
     ]
    }
   ],
   "source": [
    "a = np.arange(4)\n",
    "a + np.array([1, 2])  "
   ]
  },
  {
   "cell_type": "markdown",
   "metadata": {},
   "source": [
    "*broadcast?* 我们[稍后](#Broadcasting)讨论."
   ]
  },
  {
   "cell_type": "markdown",
   "metadata": {},
   "source": [
    "* **变换**"
   ]
  },
  {
   "cell_type": "code",
   "execution_count": 91,
   "metadata": {
    "run_control": {
     "frozen": false,
     "read_only": false
    }
   },
   "outputs": [
    {
     "data": {
      "text/plain": [
       "array([[ 0.,  1.,  1.],\n",
       "       [ 0.,  0.,  1.],\n",
       "       [ 0.,  0.,  0.]])"
      ]
     },
     "execution_count": 91,
     "metadata": {},
     "output_type": "execute_result"
    }
   ],
   "source": [
    "a = np.triu(np.ones((3, 3)), 1)   # 详见 help(np.triu)\n",
    "a"
   ]
  },
  {
   "cell_type": "code",
   "execution_count": 92,
   "metadata": {
    "run_control": {
     "frozen": false,
     "read_only": false
    }
   },
   "outputs": [
    {
     "data": {
      "text/plain": [
       "array([[ 0.,  0.,  0.],\n",
       "       [ 1.,  0.,  0.],\n",
       "       [ 1.,  1.,  0.]])"
      ]
     },
     "execution_count": 92,
     "metadata": {},
     "output_type": "execute_result"
    }
   ],
   "source": [
    "a.T"
   ]
  },
  {
   "cell_type": "markdown",
   "metadata": {},
   "source": [
    "**警告：变换是view**\n",
    "\n",
    "因此，下列的代码是**错误**的，**将不会使矩阵变为对称**：\n",
    "\n",
    "```python\n",
    ">>> a += a.T\n",
    "```"
   ]
  },
  {
   "cell_type": "markdown",
   "metadata": {},
   "source": [
    "**注：线性代数**\n",
    "\n",
    "子模块 ``numpy.linalg`` 实施了基础的线性代数运筹，比如求解线性方程组，奇异值分解等。但是，它并不能保证以高效的方式编译，因此，建议使用 `scipy.linalg`, 详细的内容见[线性代数操作](1.5. Scipy：高级科学计算.ipynb)：`scipy.linalg`。"
   ]
  },
  {
   "cell_type": "markdown",
   "metadata": {},
   "source": [
    "### **练习：其他操作**\n",
    "* 查看 `np.allclose` 的文档，什么时候这很有用？\n",
    "* 查看 `np.triu`和 `np.tril`的文档。"
   ]
  },
  {
   "cell_type": "markdown",
   "metadata": {},
   "source": [
    "#### 1.3.2.2 基础的reduction(简化)操作"
   ]
  },
  {
   "cell_type": "markdown",
   "metadata": {},
   "source": [
    "##### 求和"
   ]
  },
  {
   "cell_type": "code",
   "execution_count": 93,
   "metadata": {
    "run_control": {
     "frozen": false,
     "read_only": false
    }
   },
   "outputs": [
    {
     "data": {
      "text/plain": [
       "10"
      ]
     },
     "execution_count": 93,
     "metadata": {},
     "output_type": "execute_result"
    }
   ],
   "source": [
    "x = np.array([1, 2, 3, 4])\n",
    "np.sum(x)"
   ]
  },
  {
   "cell_type": "code",
   "execution_count": 94,
   "metadata": {
    "run_control": {
     "frozen": false,
     "read_only": false
    }
   },
   "outputs": [
    {
     "data": {
      "text/plain": [
       "10"
      ]
     },
     "execution_count": 94,
     "metadata": {},
     "output_type": "execute_result"
    }
   ],
   "source": [
    "x.sum()"
   ]
  },
  {
   "cell_type": "markdown",
   "metadata": {},
   "source": [
    "行求和与列求和：\n",
    "\n",
    "<img src=\"data:image/png;base64,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\" alt=\"reductions.png\"></img>"
   ]
  },
  {
   "cell_type": "code",
   "execution_count": 95,
   "metadata": {
    "run_control": {
     "frozen": false,
     "read_only": false
    }
   },
   "outputs": [
    {
     "data": {
      "text/plain": [
       "array([[1, 1],\n",
       "       [2, 2]])"
      ]
     },
     "execution_count": 95,
     "metadata": {},
     "output_type": "execute_result"
    }
   ],
   "source": [
    "x = np.array([[1, 1], [2, 2]])\n",
    "x"
   ]
  },
  {
   "cell_type": "code",
   "execution_count": 96,
   "metadata": {
    "run_control": {
     "frozen": false,
     "read_only": false
    }
   },
   "outputs": [
    {
     "data": {
      "text/plain": [
       "array([3, 3])"
      ]
     },
     "execution_count": 96,
     "metadata": {},
     "output_type": "execute_result"
    }
   ],
   "source": [
    "x.sum(axis=0)   # 列 (第1维度)"
   ]
  },
  {
   "cell_type": "code",
   "execution_count": 97,
   "metadata": {
    "run_control": {
     "frozen": false,
     "read_only": false
    }
   },
   "outputs": [
    {
     "data": {
      "text/plain": [
       "(3, 3)"
      ]
     },
     "execution_count": 97,
     "metadata": {},
     "output_type": "execute_result"
    }
   ],
   "source": [
    "x[:, 0].sum(), x[:, 1].sum()"
   ]
  },
  {
   "cell_type": "code",
   "execution_count": 98,
   "metadata": {
    "run_control": {
     "frozen": false,
     "read_only": false
    }
   },
   "outputs": [
    {
     "data": {
      "text/plain": [
       "array([2, 4])"
      ]
     },
     "execution_count": 98,
     "metadata": {},
     "output_type": "execute_result"
    }
   ],
   "source": [
    "x.sum(axis=1)   # 行 (第2维度)"
   ]
  },
  {
   "cell_type": "code",
   "execution_count": 99,
   "metadata": {
    "run_control": {
     "frozen": false,
     "read_only": false
    }
   },
   "outputs": [
    {
     "data": {
      "text/plain": [
       "(2, 4)"
      ]
     },
     "execution_count": 99,
     "metadata": {},
     "output_type": "execute_result"
    }
   ],
   "source": [
    "x[0, :].sum(), x[1, :].sum()"
   ]
  },
  {
   "cell_type": "markdown",
   "metadata": {},
   "source": [
    "在更高维上，思路是一致的："
   ]
  },
  {
   "cell_type": "code",
   "execution_count": 100,
   "metadata": {
    "run_control": {
     "frozen": false,
     "read_only": false
    }
   },
   "outputs": [
    {
     "data": {
      "text/plain": [
       "1.2671177193964822"
      ]
     },
     "execution_count": 100,
     "metadata": {},
     "output_type": "execute_result"
    }
   ],
   "source": [
    "x = np.random.rand(2, 2, 2)\n",
    "x.sum(axis=2)[0, 1]"
   ]
  },
  {
   "cell_type": "code",
   "execution_count": 101,
   "metadata": {
    "run_control": {
     "frozen": false,
     "read_only": false
    }
   },
   "outputs": [
    {
     "data": {
      "text/plain": [
       "1.2671177193964822"
      ]
     },
     "execution_count": 101,
     "metadata": {},
     "output_type": "execute_result"
    }
   ],
   "source": [
    "x[0, 1, :].sum()     "
   ]
  },
  {
   "cell_type": "markdown",
   "metadata": {},
   "source": [
    "##### 其他简化操作"
   ]
  },
  {
   "cell_type": "markdown",
   "metadata": {},
   "source": [
    "-- 采取的方式是一致的(也可以使用 `axis=` )"
   ]
  },
  {
   "cell_type": "markdown",
   "metadata": {},
   "source": [
    "* **极值**"
   ]
  },
  {
   "cell_type": "code",
   "execution_count": 102,
   "metadata": {
    "run_control": {
     "frozen": false,
     "read_only": false
    }
   },
   "outputs": [
    {
     "data": {
      "text/plain": [
       "1"
      ]
     },
     "execution_count": 102,
     "metadata": {},
     "output_type": "execute_result"
    }
   ],
   "source": [
    "x = np.array([1, 3, 2])\n",
    "x.min()"
   ]
  },
  {
   "cell_type": "code",
   "execution_count": 103,
   "metadata": {
    "run_control": {
     "frozen": false,
     "read_only": false
    }
   },
   "outputs": [
    {
     "data": {
      "text/plain": [
       "3"
      ]
     },
     "execution_count": 103,
     "metadata": {},
     "output_type": "execute_result"
    }
   ],
   "source": [
    "x.max()"
   ]
  },
  {
   "cell_type": "code",
   "execution_count": 104,
   "metadata": {
    "run_control": {
     "frozen": false,
     "read_only": false
    }
   },
   "outputs": [
    {
     "data": {
      "text/plain": [
       "0"
      ]
     },
     "execution_count": 104,
     "metadata": {},
     "output_type": "execute_result"
    }
   ],
   "source": [
    "x.argmin()  # 最小值的index"
   ]
  },
  {
   "cell_type": "code",
   "execution_count": 105,
   "metadata": {
    "run_control": {
     "frozen": false,
     "read_only": false
    }
   },
   "outputs": [
    {
     "data": {
      "text/plain": [
       "1"
      ]
     },
     "execution_count": 105,
     "metadata": {},
     "output_type": "execute_result"
    }
   ],
   "source": [
    "x.argmax()  # 最大值的index"
   ]
  },
  {
   "cell_type": "markdown",
   "metadata": {},
   "source": [
    "* **逻辑运算**："
   ]
  },
  {
   "cell_type": "code",
   "execution_count": 106,
   "metadata": {
    "run_control": {
     "frozen": false,
     "read_only": false
    }
   },
   "outputs": [
    {
     "data": {
      "text/plain": [
       "False"
      ]
     },
     "execution_count": 106,
     "metadata": {},
     "output_type": "execute_result"
    }
   ],
   "source": [
    "np.all([True, True, False])"
   ]
  },
  {
   "cell_type": "code",
   "execution_count": 107,
   "metadata": {
    "run_control": {
     "frozen": false,
     "read_only": false
    }
   },
   "outputs": [
    {
     "data": {
      "text/plain": [
       "True"
      ]
     },
     "execution_count": 107,
     "metadata": {},
     "output_type": "execute_result"
    }
   ],
   "source": [
    "np.any([True, True, False])"
   ]
  },
  {
   "cell_type": "markdown",
   "metadata": {},
   "source": [
    "**注**：可以应于array的比较："
   ]
  },
  {
   "cell_type": "code",
   "execution_count": 108,
   "metadata": {
    "run_control": {
     "frozen": false,
     "read_only": false
    }
   },
   "outputs": [
    {
     "data": {
      "text/plain": [
       "False"
      ]
     },
     "execution_count": 108,
     "metadata": {},
     "output_type": "execute_result"
    }
   ],
   "source": [
    "a = np.zeros((100, 100))\n",
    "np.any(a != 0)"
   ]
  },
  {
   "cell_type": "code",
   "execution_count": 109,
   "metadata": {
    "run_control": {
     "frozen": false,
     "read_only": false
    }
   },
   "outputs": [
    {
     "data": {
      "text/plain": [
       "True"
      ]
     },
     "execution_count": 109,
     "metadata": {},
     "output_type": "execute_result"
    }
   ],
   "source": [
    "np.all(a == a)"
   ]
  },
  {
   "cell_type": "code",
   "execution_count": 110,
   "metadata": {
    "run_control": {
     "frozen": false,
     "read_only": false
    }
   },
   "outputs": [
    {
     "data": {
      "text/plain": [
       "True"
      ]
     },
     "execution_count": 110,
     "metadata": {},
     "output_type": "execute_result"
    }
   ],
   "source": [
    "a = np.array([1, 2, 3, 2])\n",
    "b = np.array([2, 2, 3, 2])\n",
    "c = np.array([6, 4, 4, 5])\n",
    "((a <= b) & (b <= c)).all()"
   ]
  },
  {
   "cell_type": "markdown",
   "metadata": {},
   "source": [
    "* **统计:**"
   ]
  },
  {
   "cell_type": "code",
   "execution_count": 111,
   "metadata": {
    "run_control": {
     "frozen": false,
     "read_only": false
    }
   },
   "outputs": [
    {
     "data": {
      "text/plain": [
       "1.75"
      ]
     },
     "execution_count": 111,
     "metadata": {},
     "output_type": "execute_result"
    }
   ],
   "source": [
    "x = np.array([1, 2, 3, 1])\n",
    "y = np.array([[1, 2, 3], [5, 6, 1]])\n",
    "x.mean()"
   ]
  },
  {
   "cell_type": "code",
   "execution_count": 112,
   "metadata": {
    "run_control": {
     "frozen": false,
     "read_only": false
    }
   },
   "outputs": [
    {
     "data": {
      "text/plain": [
       "1.5"
      ]
     },
     "execution_count": 112,
     "metadata": {},
     "output_type": "execute_result"
    }
   ],
   "source": [
    "np.median(x)"
   ]
  },
  {
   "cell_type": "code",
   "execution_count": 113,
   "metadata": {
    "run_control": {
     "frozen": false,
     "read_only": false
    }
   },
   "outputs": [
    {
     "data": {
      "text/plain": [
       "array([ 2.,  5.])"
      ]
     },
     "execution_count": 113,
     "metadata": {},
     "output_type": "execute_result"
    }
   ],
   "source": [
    "np.median(y, axis=-1) # 最后一个维度"
   ]
  },
  {
   "cell_type": "code",
   "execution_count": 114,
   "metadata": {
    "run_control": {
     "frozen": false,
     "read_only": false
    }
   },
   "outputs": [
    {
     "data": {
      "text/plain": [
       "0.82915619758884995"
      ]
     },
     "execution_count": 114,
     "metadata": {},
     "output_type": "execute_result"
    }
   ],
   "source": [
    "x.std()          # 总体的标准差"
   ]
  },
  {
   "cell_type": "markdown",
   "metadata": {},
   "source": [
    "... 以及其他更多的操作（最好边学边用）。"
   ]
  },
  {
   "cell_type": "markdown",
   "metadata": {},
   "source": [
    "###  **练习：简化操作**\n",
    "\n",
    "* 我们已经知道了有 ``sum`` 函数，你觉得还会有哪些其他的函数？\n",
    "* ``sum`` 和 ``cumsum`` 有什么区别？"
   ]
  },
  {
   "cell_type": "markdown",
   "metadata": {},
   "source": [
    "**实例: 数据统计**"
   ]
  },
  {
   "cell_type": "markdown",
   "metadata": {},
   "source": [
    "[populations.txt](http://scipy-lectures.github.io/_downloads/populations.txt)中的数据描述了过去20年加拿大北部野兔和猞猁的数量（以及胡萝卜）。\n",
    "\n",
    "你可以看一下数据，比如在某个编辑器，或在IPython中（shell或者notebook）。如果你使用的是linux或mac，可以通过：\n",
    "```\n",
    "cat data/populations.txt\n",
    "```"
   ]
  },
  {
   "cell_type": "markdown",
   "metadata": {},
   "source": [
    "首先，将数据加载到Numpy array(如果你正在使用ipython notebook，请先将文件populations.txt放在当前文件夹下的data目录下)："
   ]
  },
  {
   "cell_type": "code",
   "execution_count": 115,
   "metadata": {
    "collapsed": true,
    "run_control": {
     "frozen": false,
     "read_only": false
    }
   },
   "outputs": [],
   "source": [
    "data = np.loadtxt('data/populations.txt')\n",
    "year, hares, lynxes, carrots = data.T  # 技巧: 将列分配给变量"
   ]
  },
  {
   "cell_type": "markdown",
   "metadata": {},
   "source": [
    "接下来作图："
   ]
  },
  {
   "cell_type": "code",
   "execution_count": 116,
   "metadata": {
    "collapsed": true
   },
   "outputs": [],
   "source": [
    "%matplotlib inline"
   ]
  },
  {
   "cell_type": "code",
   "execution_count": 117,
   "metadata": {
    "run_control": {
     "frozen": false,
     "read_only": false
    }
   },
   "outputs": [
    {
     "data": {
      "text/plain": [
       "<matplotlib.legend.Legend at 0xba0b5f8>"
      ]
     },
     "execution_count": 117,
     "metadata": {},
     "output_type": "execute_result"
    },
    {
     "data": {
      "image/png": "[encoded data removed]",
      "text/plain": [
       "<matplotlib.figure.Figure at 0x98b3588>"
      ]
     },
     "metadata": {},
     "output_type": "display_data"
    }
   ],
   "source": [
    "from matplotlib import pyplot as plt\n",
    "plt.axes([0.2, 0.1, 0.5, 0.8]) \n",
    "plt.plot(year, hares, year, lynxes, year, carrots) \n",
    "plt.legend(('Hare', 'Lynx', 'Carrot'), loc=(1.05, 0.5)) "
   ]
  },
  {
   "cell_type": "markdown",
   "metadata": {},
   "source": [
    "随时间变化的数量的平均数："
   ]
  },
  {
   "cell_type": "code",
   "execution_count": 118,
   "metadata": {
    "run_control": {
     "frozen": false,
     "read_only": false
    }
   },
   "outputs": [
    {
     "data": {
      "text/plain": [
       "array([ 34080.95238095,  20166.66666667,  42400.        ])"
      ]
     },
     "execution_count": 118,
     "metadata": {},
     "output_type": "execute_result"
    }
   ],
   "source": [
    "populations = data[:, 1:]\n",
    "populations.mean(axis=0)"
   ]
  },
  {
   "cell_type": "markdown",
   "metadata": {},
   "source": [
    "样本的标准差："
   ]
  },
  {
   "cell_type": "code",
   "execution_count": 119,
   "metadata": {
    "run_control": {
     "frozen": false,
     "read_only": false
    }
   },
   "outputs": [
    {
     "data": {
      "text/plain": [
       "array([ 20897.90645809,  16254.59153691,   3322.50622558])"
      ]
     },
     "execution_count": 119,
     "metadata": {},
     "output_type": "execute_result"
    }
   ],
   "source": [
    "populations.std(axis=0)"
   ]
  },
  {
   "cell_type": "markdown",
   "metadata": {},
   "source": [
    "每一年哪个物种有最高的数量？："
   ]
  },
  {
   "cell_type": "code",
   "execution_count": 120,
   "metadata": {
    "run_control": {
     "frozen": false,
     "read_only": false
    }
   },
   "outputs": [
    {
     "data": {
      "text/plain": [
       "array([2, 2, 0, 0, 1, 1, 2, 2, 2, 2, 2, 2, 0, 0, 0, 1, 2, 2, 2, 2, 2], dtype=int64)"
      ]
     },
     "execution_count": 120,
     "metadata": {},
     "output_type": "execute_result"
    }
   ],
   "source": [
    "np.argmax(populations, axis=1)"
   ]
  },
  {
   "cell_type": "markdown",
   "metadata": {},
   "source": [
    "**实例：基于随机游走算法的扩散**\n",
    "\n",
    "<img src=\"data:image/png;base64,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\" alt=\"random_walk.png\"></img>\n",
    "\n",
    "考虑一个简单的1维随机游走过程：在每个时间眇，一个游走者以相等的概率跳到左边或右边。\n",
    "\n",
    "感兴趣的是游走者在 `t` 次左跳或右跳后距离原点的典型距离？我们将模拟许多“游走者”来找到这个规律，并采用array计算的技巧：我们将创建一个2D array，一个维度为“故事”(每个游走者有一个故事)，一个维度是时间：\n",
    "\n",
    "<img src=\"data:image/png;base64,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\" alt=\"random_walk_schema.png\"></img>"
   ]
  },
  {
   "cell_type": "code",
   "execution_count": 121,
   "metadata": {
    "collapsed": true,
    "run_control": {
     "frozen": false,
     "read_only": false
    }
   },
   "outputs": [],
   "source": [
    "n_stories = 1000 # 游走者的数量\n",
    "t_max = 200      # 我们纪录行走者踪迹的时间"
   ]
  },
  {
   "cell_type": "markdown",
   "metadata": {},
   "source": [
    "随机选择所有游走的步长为1或-1："
   ]
  },
  {
   "cell_type": "code",
   "execution_count": 122,
   "metadata": {
    "run_control": {
     "frozen": false,
     "read_only": false
    }
   },
   "outputs": [
    {
     "data": {
      "text/plain": [
       "array([-1,  1])"
      ]
     },
     "execution_count": 122,
     "metadata": {},
     "output_type": "execute_result"
    }
   ],
   "source": [
    "t = np.arange(t_max)\n",
    "steps = 2 * np.random.randint(0, 1 + 1, (n_stories, t_max)) - 1 # +1 因为末值不被计入\n",
    "np.unique(steps) # 验证: 所有步长是1或-1"
   ]
  },
  {
   "cell_type": "markdown",
   "metadata": {},
   "source": [
    "以时间步维度总和为参照来创建游走"
   ]
  },
  {
   "cell_type": "code",
   "execution_count": 123,
   "metadata": {
    "collapsed": true,
    "run_control": {
     "frozen": false,
     "read_only": false
    }
   },
   "outputs": [],
   "source": [
    "positions = np.cumsum(steps, axis=1) # axis = 1: 时间维度\n",
    "sq_distance = positions**2"
   ]
  },
  {
   "cell_type": "markdown",
   "metadata": {},
   "source": [
    "获得故事轴的均值："
   ]
  },
  {
   "cell_type": "code",
   "execution_count": 124,
   "metadata": {
    "collapsed": true,
    "run_control": {
     "frozen": false,
     "read_only": false
    }
   },
   "outputs": [],
   "source": [
    "mean_sq_distance = np.mean(sq_distance, axis=0)"
   ]
  },
  {
   "cell_type": "markdown",
   "metadata": {},
   "source": [
    "画出结果："
   ]
  },
  {
   "cell_type": "code",
   "execution_count": 125,
   "metadata": {
    "run_control": {
     "frozen": false,
     "read_only": false
    }
   },
   "outputs": [
    {
     "data": {
      "image/png": "[encoded data removed]",
      "text/plain": [
       "<matplotlib.figure.Figure at 0xba69208>"
      ]
     },
     "metadata": {},
     "output_type": "display_data"
    }
   ],
   "source": [
    "plt.figure(figsize=(4, 3)) \n",
    "plt.plot(t, np.sqrt(mean_sq_distance), 'g.', t, np.sqrt(t), 'y-')\n",
    "plt.xlabel(r\"$t$\") \n",
    "plt.ylabel(r\"$\\sqrt{\\langle (\\delta x)^2 \\rangle}$\")\n",
    "plt.tight_layout()  # 为坐标轴的label提供足够的空间"
   ]
  },
  {
   "cell_type": "markdown",
   "metadata": {},
   "source": [
    "我们找到了物理学中一个著名的结果：距离的均方根随着时间平均根的增长而增长！"
   ]
  },
  {
   "cell_type": "markdown",
   "metadata": {},
   "source": [
    "<a id='Broadcasting'></a>\n",
    "#### 1.3.2.3 broadcasting(广播)"
   ]
  },
  {
   "cell_type": "markdown",
   "metadata": {},
   "source": [
    "* numpy array的基本操作（例如加法）是元素级别的\n",
    "* 这些操作适用于所有的array的大小完全相同时.\n",
    "\n",
    "**尽管如此**, 对于不同大小的array，如果*Numpy*可以将它们变换为相同的大小，那么这些基本操作也可以进行的。这种变换称为**broadcasting**。\n",
    "    \n",
    "下图给出了一个broadcasting的例子：\n",
    "\n",
    "<img style=\"width: 80%;\"  src=\"data:image/png;base64,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\" alt=\"numpy_broadcasting.png\"></img>"
   ]
  },
  {
   "cell_type": "markdown",
   "metadata": {},
   "source": [
    "我们来验证一下："
   ]
  },
  {
   "cell_type": "code",
   "execution_count": 126,
   "metadata": {
    "run_control": {
     "frozen": false,
     "read_only": false
    }
   },
   "outputs": [
    {
     "data": {
      "text/plain": [
       "array([[ 0,  0,  0],\n",
       "       [10, 10, 10],\n",
       "       [20, 20, 20],\n",
       "       [30, 30, 30]])"
      ]
     },
     "execution_count": 126,
     "metadata": {},
     "output_type": "execute_result"
    }
   ],
   "source": [
    "a = np.tile(np.arange(0, 40, 10), (3, 1)).T\n",
    "a"
   ]
  },
  {
   "cell_type": "code",
   "execution_count": 127,
   "metadata": {
    "run_control": {
     "frozen": false,
     "read_only": false
    }
   },
   "outputs": [
    {
     "data": {
      "text/plain": [
       "array([[ 0,  1,  2],\n",
       "       [10, 11, 12],\n",
       "       [20, 21, 22],\n",
       "       [30, 31, 32]])"
      ]
     },
     "execution_count": 127,
     "metadata": {},
     "output_type": "execute_result"
    }
   ],
   "source": [
    "b = np.array([0, 1, 2])\n",
    "a + b"
   ]
  },
  {
   "cell_type": "markdown",
   "metadata": {},
   "source": [
    "我们其实已经在不知情的时候使用过broadcasting！："
   ]
  },
  {
   "cell_type": "code",
   "execution_count": 128,
   "metadata": {
    "run_control": {
     "frozen": false,
     "read_only": false
    }
   },
   "outputs": [
    {
     "data": {
      "text/plain": [
       "array([[ 2.,  2.,  2.,  2.,  2.],\n",
       "       [ 1.,  1.,  1.,  1.,  1.],\n",
       "       [ 1.,  1.,  1.,  1.,  1.],\n",
       "       [ 1.,  1.,  1.,  1.,  1.]])"
      ]
     },
     "execution_count": 128,
     "metadata": {},
     "output_type": "execute_result"
    }
   ],
   "source": [
    "a = np.ones((4, 5))\n",
    "a[0] = 2  # 将一个维度为0的array赋值到一个维度为1的array\n",
    "a"
   ]
  },
  {
   "cell_type": "code",
   "execution_count": 129,
   "metadata": {
    "run_control": {
     "frozen": false,
     "read_only": false
    }
   },
   "outputs": [
    {
     "name": "stdout",
     "output_type": "stream",
     "text": [
      "[ 1.  1.  1.  1.  1.]\n"
     ]
    },
    {
     "data": {
      "text/plain": [
       "array([[ 2.,  2.,  2.,  2.,  2.],\n",
       "       [ 1.,  1.,  1.,  1.,  1.],\n",
       "       [ 1.,  1.,  1.,  1.,  1.],\n",
       "       [ 1.,  1.,  1.,  1.,  1.]])"
      ]
     },
     "execution_count": 129,
     "metadata": {},
     "output_type": "execute_result"
    }
   ],
   "source": [
    "a = np.ones((4, 5))\n",
    "print(a[0])\n",
    "a[0] = 2  # 我们将一个array的维度0分配给另一个array的维度\n",
    "a"
   ]
  },
  {
   "cell_type": "markdown",
   "metadata": {},
   "source": [
    "一个有用的技巧："
   ]
  },
  {
   "cell_type": "code",
   "execution_count": 130,
   "metadata": {
    "run_control": {
     "frozen": false,
     "read_only": false
    }
   },
   "outputs": [
    {
     "data": {
      "text/plain": [
       "(4,)"
      ]
     },
     "execution_count": 130,
     "metadata": {},
     "output_type": "execute_result"
    }
   ],
   "source": [
    "a = np.arange(0, 40, 10)\n",
    "a.shape"
   ]
  },
  {
   "cell_type": "code",
   "execution_count": 131,
   "metadata": {
    "run_control": {
     "frozen": false,
     "read_only": false
    }
   },
   "outputs": [
    {
     "data": {
      "text/plain": [
       "(4, 1)"
      ]
     },
     "execution_count": 131,
     "metadata": {},
     "output_type": "execute_result"
    }
   ],
   "source": [
    "a = a[:, np.newaxis]  # 添加一个新的轴 -> 2D array\n",
    "a.shape"
   ]
  },
  {
   "cell_type": "code",
   "execution_count": 132,
   "metadata": {
    "run_control": {
     "frozen": false,
     "read_only": false
    }
   },
   "outputs": [
    {
     "data": {
      "text/plain": [
       "array([[ 0],\n",
       "       [10],\n",
       "       [20],\n",
       "       [30]])"
      ]
     },
     "execution_count": 132,
     "metadata": {},
     "output_type": "execute_result"
    }
   ],
   "source": [
    "a"
   ]
  },
  {
   "cell_type": "code",
   "execution_count": 133,
   "metadata": {
    "run_control": {
     "frozen": false,
     "read_only": false
    }
   },
   "outputs": [
    {
     "data": {
      "text/plain": [
       "array([[ 0,  1,  2],\n",
       "       [10, 11, 12],\n",
       "       [20, 21, 22],\n",
       "       [30, 31, 32]])"
      ]
     },
     "execution_count": 133,
     "metadata": {},
     "output_type": "execute_result"
    }
   ],
   "source": [
    "a + b"
   ]
  },
  {
   "cell_type": "markdown",
   "metadata": {},
   "source": [
    "broadcasting看起来有点神奇，不过，如果一个问题的输出数据是比输入数据有更高维度的array时，使用它是非常自然的。"
   ]
  },
  {
   "cell_type": "markdown",
   "metadata": {},
   "source": [
    "**实例：broadcasting**\n",
    "\n",
    "让我们创建一个66号公路上城市间距离的array（单位为mile）：芝加哥、斯普林菲尔德、圣路易斯、塔尔萨、俄克拉何马市、阿马里洛、圣塔菲、阿尔布开克、Flagstaff、洛杉矶。"
   ]
  },
  {
   "cell_type": "code",
   "execution_count": 134,
   "metadata": {
    "run_control": {
     "frozen": false,
     "read_only": false
    }
   },
   "outputs": [
    {
     "data": {
      "text/plain": [
       "array([[   0,  198,  303,  736,  871, 1175, 1475, 1544, 1913, 2448],\n",
       "       [ 198,    0,  105,  538,  673,  977, 1277, 1346, 1715, 2250],\n",
       "       [ 303,  105,    0,  433,  568,  872, 1172, 1241, 1610, 2145],\n",
       "       [ 736,  538,  433,    0,  135,  439,  739,  808, 1177, 1712],\n",
       "       [ 871,  673,  568,  135,    0,  304,  604,  673, 1042, 1577],\n",
       "       [1175,  977,  872,  439,  304,    0,  300,  369,  738, 1273],\n",
       "       [1475, 1277, 1172,  739,  604,  300,    0,   69,  438,  973],\n",
       "       [1544, 1346, 1241,  808,  673,  369,   69,    0,  369,  904],\n",
       "       [1913, 1715, 1610, 1177, 1042,  738,  438,  369,    0,  535],\n",
       "       [2448, 2250, 2145, 1712, 1577, 1273,  973,  904,  535,    0]])"
      ]
     },
     "execution_count": 134,
     "metadata": {},
     "output_type": "execute_result"
    }
   ],
   "source": [
    "mileposts = np.array([0, 198, 303, 736, 871, 1175, 1475, 1544, 1913, 2448])\n",
    "distance_array = np.abs(mileposts - mileposts[:, np.newaxis])\n",
    "distance_array"
   ]
  },
  {
   "cell_type": "markdown",
   "metadata": {},
   "source": [
    "<img style=\"width: 60%;\"  src=\"data:image/png;base64,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\" alt=\"route66.png\"></img>"
   ]
  },
  {
   "cell_type": "markdown",
   "metadata": {},
   "source": [
    "许多基于网格或者网络的问题都需要使用broadcasting。例如，如果要计算10X10网格中每个点到原点的数据，可以这样："
   ]
  },
  {
   "cell_type": "code",
   "execution_count": 135,
   "metadata": {
    "run_control": {
     "frozen": false,
     "read_only": false
    }
   },
   "outputs": [
    {
     "data": {
      "text/plain": [
       "array([[ 0.        ,  1.        ,  2.        ,  3.        ,  4.        ],\n",
       "       [ 1.        ,  1.41421356,  2.23606798,  3.16227766,  4.12310563],\n",
       "       [ 2.        ,  2.23606798,  2.82842712,  3.60555128,  4.47213595],\n",
       "       [ 3.        ,  3.16227766,  3.60555128,  4.24264069,  5.        ],\n",
       "       [ 4.        ,  4.12310563,  4.47213595,  5.        ,  5.65685425]])"
      ]
     },
     "execution_count": 135,
     "metadata": {},
     "output_type": "execute_result"
    }
   ],
   "source": [
    "x, y = np.arange(5), np.arange(5)[:, np.newaxis]\n",
    "distance = np.sqrt(x ** 2 + y ** 2)\n",
    "distance"
   ]
  },
  {
   "cell_type": "markdown",
   "metadata": {},
   "source": [
    "或者用颜色："
   ]
  },
  {
   "cell_type": "code",
   "execution_count": 136,
   "metadata": {
    "run_control": {
     "frozen": false,
     "read_only": false
    }
   },
   "outputs": [
    {
     "data": {
      "text/plain": [
       "<matplotlib.colorbar.Colorbar at 0xcc54be0>"
      ]
     },
     "execution_count": 136,
     "metadata": {},
     "output_type": "execute_result"
    },
    {
     "data": {
      "image/png": "[encoded data removed]",
      "text/plain": [
       "<matplotlib.figure.Figure at 0xbb05e10>"
      ]
     },
     "metadata": {},
     "output_type": "display_data"
    }
   ],
   "source": [
    "plt.pcolor(distance)    \n",
    "plt.colorbar()   "
   ]
  },
  {
   "cell_type": "markdown",
   "metadata": {},
   "source": [
    "**评论** : ``numpy.ogrid()`` 函数允许直接创建上前例中作为两个**重要维度**的向量`x`和`y`："
   ]
  },
  {
   "cell_type": "code",
   "execution_count": 137,
   "metadata": {
    "run_control": {
     "frozen": false,
     "read_only": false
    }
   },
   "outputs": [
    {
     "data": {
      "text/plain": [
       "(array([[0],\n",
       "        [1],\n",
       "        [2],\n",
       "        [3],\n",
       "        [4]]), array([[0, 1, 2, 3, 4]]))"
      ]
     },
     "execution_count": 137,
     "metadata": {},
     "output_type": "execute_result"
    }
   ],
   "source": [
    "x, y = np.ogrid[0:5, 0:5]\n",
    "x, y"
   ]
  },
  {
   "cell_type": "code",
   "execution_count": 138,
   "metadata": {
    "run_control": {
     "frozen": false,
     "read_only": false
    }
   },
   "outputs": [
    {
     "data": {
      "text/plain": [
       "((5, 1), (1, 5))"
      ]
     },
     "execution_count": 138,
     "metadata": {},
     "output_type": "execute_result"
    }
   ],
   "source": [
    "x.shape, y.shape"
   ]
  },
  {
   "cell_type": "code",
   "execution_count": 139,
   "metadata": {
    "collapsed": true,
    "run_control": {
     "frozen": false,
     "read_only": false
    }
   },
   "outputs": [],
   "source": [
    "distance = np.sqrt(x ** 2 + y ** 2)"
   ]
  },
  {
   "cell_type": "markdown",
   "metadata": {},
   "source": [
    "因此，当我们需要进行网格计算时, ``np.ogrid`` 非常有用。另一方面，函数``np.mgrid``直接提供了由有完整index的矩阵，可用于我们无法（或不想）使用broadcasting的情形。"
   ]
  },
  {
   "cell_type": "code",
   "execution_count": 140,
   "metadata": {
    "run_control": {
     "frozen": false,
     "read_only": false
    }
   },
   "outputs": [
    {
     "data": {
      "text/plain": [
       "array([[0, 0, 0, 0],\n",
       "       [1, 1, 1, 1],\n",
       "       [2, 2, 2, 2],\n",
       "       [3, 3, 3, 3]])"
      ]
     },
     "execution_count": 140,
     "metadata": {},
     "output_type": "execute_result"
    }
   ],
   "source": [
    "x, y = np.mgrid[0:4, 0:4]\n",
    "x"
   ]
  },
  {
   "cell_type": "code",
   "execution_count": 141,
   "metadata": {
    "run_control": {
     "frozen": false,
     "read_only": false
    }
   },
   "outputs": [
    {
     "data": {
      "text/plain": [
       "array([[0, 1, 2, 3],\n",
       "       [0, 1, 2, 3],\n",
       "       [0, 1, 2, 3],\n",
       "       [0, 1, 2, 3]])"
      ]
     },
     "execution_count": 141,
     "metadata": {},
     "output_type": "execute_result"
    }
   ],
   "source": [
    "y"
   ]
  },
  {
   "cell_type": "markdown",
   "metadata": {},
   "source": [
    "#### 1.3.2.4 array形状操控\n",
    "\n",
    "##### flatten(扁平化)"
   ]
  },
  {
   "cell_type": "code",
   "execution_count": 142,
   "metadata": {
    "run_control": {
     "frozen": false,
     "read_only": false
    }
   },
   "outputs": [
    {
     "data": {
      "text/plain": [
       "array([1, 2, 3, 4, 5, 6])"
      ]
     },
     "execution_count": 142,
     "metadata": {},
     "output_type": "execute_result"
    }
   ],
   "source": [
    "a = np.array([[1, 2, 3], [4, 5, 6]])\n",
    "a.ravel()"
   ]
  },
  {
   "cell_type": "code",
   "execution_count": 143,
   "metadata": {
    "run_control": {
     "frozen": false,
     "read_only": false
    }
   },
   "outputs": [
    {
     "data": {
      "text/plain": [
       "array([[1, 4],\n",
       "       [2, 5],\n",
       "       [3, 6]])"
      ]
     },
     "execution_count": 143,
     "metadata": {},
     "output_type": "execute_result"
    }
   ],
   "source": [
    "a.T"
   ]
  },
  {
   "cell_type": "code",
   "execution_count": 144,
   "metadata": {
    "run_control": {
     "frozen": false,
     "read_only": false
    }
   },
   "outputs": [
    {
     "data": {
      "text/plain": [
       "array([1, 4, 2, 5, 3, 6])"
      ]
     },
     "execution_count": 144,
     "metadata": {},
     "output_type": "execute_result"
    }
   ],
   "source": [
    "a.T.ravel()"
   ]
  },
  {
   "cell_type": "markdown",
   "metadata": {},
   "source": [
    "对于高维array，维度数最高的\"先\"拆除."
   ]
  },
  {
   "cell_type": "markdown",
   "metadata": {},
   "source": [
    "##### reshape(重设形状)\n",
    "\n",
    "可以是与扁平化的反向操作："
   ]
  },
  {
   "cell_type": "code",
   "execution_count": 145,
   "metadata": {
    "run_control": {
     "frozen": false,
     "read_only": false
    }
   },
   "outputs": [
    {
     "data": {
      "text/plain": [
       "(2, 3)"
      ]
     },
     "execution_count": 145,
     "metadata": {},
     "output_type": "execute_result"
    }
   ],
   "source": [
    "a.shape"
   ]
  },
  {
   "cell_type": "code",
   "execution_count": 146,
   "metadata": {
    "run_control": {
     "frozen": false,
     "read_only": false
    }
   },
   "outputs": [
    {
     "data": {
      "text/plain": [
       "array([[1, 2, 3],\n",
       "       [4, 5, 6]])"
      ]
     },
     "execution_count": 146,
     "metadata": {},
     "output_type": "execute_result"
    }
   ],
   "source": [
    "b = a.ravel()\n",
    "b = b.reshape((2, 3))\n",
    "b"
   ]
  },
  {
   "cell_type": "markdown",
   "metadata": {},
   "source": [
    "也可以是,"
   ]
  },
  {
   "cell_type": "code",
   "execution_count": 147,
   "metadata": {
    "run_control": {
     "frozen": false,
     "read_only": false
    }
   },
   "outputs": [
    {
     "data": {
      "text/plain": [
       "array([[1, 2, 3],\n",
       "       [4, 5, 6]])"
      ]
     },
     "execution_count": 147,
     "metadata": {},
     "output_type": "execute_result"
    }
   ],
   "source": [
    "a.reshape((2, -1))    # 当某维度的值不确定时，设为-1，则该值将被自动推导出来"
   ]
  },
  {
   "cell_type": "markdown",
   "metadata": {},
   "source": [
    "**警示**： `ndarray.reshape` 可以返回一个view（参见 `help(np.reshape)`）, 也可以可以返回copy(副本)"
   ]
  },
  {
   "cell_type": "code",
   "execution_count": 148,
   "metadata": {
    "run_control": {
     "frozen": false,
     "read_only": false
    }
   },
   "outputs": [
    {
     "data": {
      "text/plain": [
       "array([[99,  2,  3],\n",
       "       [ 4,  5,  6]])"
      ]
     },
     "execution_count": 148,
     "metadata": {},
     "output_type": "execute_result"
    }
   ],
   "source": [
    "b[0, 0] = 99\n",
    "a"
   ]
  },
  {
   "cell_type": "markdown",
   "metadata": {},
   "source": [
    "当心：重排也可以返回一个副本！："
   ]
  },
  {
   "cell_type": "code",
   "execution_count": 149,
   "metadata": {
    "run_control": {
     "frozen": false,
     "read_only": false
    }
   },
   "outputs": [
    {
     "data": {
      "text/plain": [
       "array([[ 0.,  0.],\n",
       "       [ 0.,  0.],\n",
       "       [ 0.,  0.]])"
      ]
     },
     "execution_count": 149,
     "metadata": {},
     "output_type": "execute_result"
    }
   ],
   "source": [
    "a = np.zeros((3, 2))\n",
    "b = a.T.reshape(3*2)\n",
    "b[0] = 9\n",
    "a"
   ]
  },
  {
   "cell_type": "markdown",
   "metadata": {},
   "source": [
    "要理解这个现象，你需要了解更多关于numpy array内存布局的知识。"
   ]
  },
  {
   "cell_type": "markdown",
   "metadata": {},
   "source": [
    "##### 增加维度\n",
    "\n",
    "用 ``np.newaxis``对象进行索引可以为一个array添加轴（在前面关于broadcasting的部分你已经见过）："
   ]
  },
  {
   "cell_type": "code",
   "execution_count": 150,
   "metadata": {
    "run_control": {
     "frozen": false,
     "read_only": false
    }
   },
   "outputs": [
    {
     "data": {
      "text/plain": [
       "array([1, 2, 3])"
      ]
     },
     "execution_count": 150,
     "metadata": {},
     "output_type": "execute_result"
    }
   ],
   "source": [
    "z = np.array([1, 2, 3])\n",
    "z"
   ]
  },
  {
   "cell_type": "code",
   "execution_count": 151,
   "metadata": {
    "run_control": {
     "frozen": false,
     "read_only": false
    }
   },
   "outputs": [
    {
     "data": {
      "text/plain": [
       "array([[1],\n",
       "       [2],\n",
       "       [3]])"
      ]
     },
     "execution_count": 151,
     "metadata": {},
     "output_type": "execute_result"
    }
   ],
   "source": [
    "z[:, np.newaxis]"
   ]
  },
  {
   "cell_type": "code",
   "execution_count": 152,
   "metadata": {
    "run_control": {
     "frozen": false,
     "read_only": false
    }
   },
   "outputs": [
    {
     "data": {
      "text/plain": [
       "array([[1, 2, 3]])"
      ]
     },
     "execution_count": 152,
     "metadata": {},
     "output_type": "execute_result"
    }
   ],
   "source": [
    "z[np.newaxis, :]"
   ]
  },
  {
   "cell_type": "markdown",
   "metadata": {},
   "source": [
    "##### 维度的重排"
   ]
  },
  {
   "cell_type": "code",
   "execution_count": 153,
   "metadata": {
    "run_control": {
     "frozen": false,
     "read_only": false
    }
   },
   "outputs": [
    {
     "data": {
      "text/plain": [
       "(4, 3, 2)"
      ]
     },
     "execution_count": 153,
     "metadata": {},
     "output_type": "execute_result"
    }
   ],
   "source": [
    "a = np.arange(4*3*2).reshape(4, 3, 2)\n",
    "a.shape"
   ]
  },
  {
   "cell_type": "code",
   "execution_count": 154,
   "metadata": {
    "run_control": {
     "frozen": false,
     "read_only": false
    }
   },
   "outputs": [
    {
     "data": {
      "text/plain": [
       "5"
      ]
     },
     "execution_count": 154,
     "metadata": {},
     "output_type": "execute_result"
    }
   ],
   "source": [
    "a[0, 2, 1]"
   ]
  },
  {
   "cell_type": "code",
   "execution_count": 155,
   "metadata": {
    "run_control": {
     "frozen": false,
     "read_only": false
    }
   },
   "outputs": [
    {
     "data": {
      "text/plain": [
       "(3, 2, 4)"
      ]
     },
     "execution_count": 155,
     "metadata": {},
     "output_type": "execute_result"
    }
   ],
   "source": [
    "b = a.transpose(1, 2, 0)\n",
    "b.shape"
   ]
  },
  {
   "cell_type": "code",
   "execution_count": 156,
   "metadata": {
    "run_control": {
     "frozen": false,
     "read_only": false
    }
   },
   "outputs": [
    {
     "data": {
      "text/plain": [
       "5"
      ]
     },
     "execution_count": 156,
     "metadata": {},
     "output_type": "execute_result"
    }
   ],
   "source": [
    "b[2, 1, 0]"
   ]
  },
  {
   "cell_type": "markdown",
   "metadata": {},
   "source": [
    "这也是创建了一个view："
   ]
  },
  {
   "cell_type": "code",
   "execution_count": 157,
   "metadata": {
    "run_control": {
     "frozen": false,
     "read_only": false
    }
   },
   "outputs": [
    {
     "data": {
      "text/plain": [
       "-1"
      ]
     },
     "execution_count": 157,
     "metadata": {},
     "output_type": "execute_result"
    }
   ],
   "source": [
    "b[2, 1, 0] = -1\n",
    "a[0, 2, 1]"
   ]
  },
  {
   "cell_type": "markdown",
   "metadata": {},
   "source": [
    "##### 改变大小\n",
    "\n",
    "可以用 ``ndarray.resize`` 改变array的大小："
   ]
  },
  {
   "cell_type": "code",
   "execution_count": 158,
   "metadata": {
    "run_control": {
     "frozen": false,
     "read_only": false
    }
   },
   "outputs": [
    {
     "data": {
      "text/plain": [
       "array([0, 1, 2, 3, 0, 0, 0, 0])"
      ]
     },
     "execution_count": 158,
     "metadata": {},
     "output_type": "execute_result"
    }
   ],
   "source": [
    "a = np.arange(4)\n",
    "a.resize((8,))\n",
    "a"
   ]
  },
  {
   "cell_type": "markdown",
   "metadata": {},
   "source": [
    "但是，它不能在其他地方引用："
   ]
  },
  {
   "cell_type": "code",
   "execution_count": 159,
   "metadata": {
    "run_control": {
     "frozen": false,
     "read_only": false
    }
   },
   "outputs": [
    {
     "ename": "ValueError",
     "evalue": "cannot resize an array that references or is referenced\nby another array in this way.  Use the resize function",
     "output_type": "error",
     "traceback": [
      "\u001b[1;31m---------------------------------------------------------------------------\u001b[0m",
      "\u001b[1;31mValueError\u001b[0m                                Traceback (most recent call last)",
      "\u001b[1;32m<ipython-input-159-c2811665878d>\u001b[0m in \u001b[0;36m<module>\u001b[1;34m()\u001b[0m\n\u001b[0;32m      1\u001b[0m \u001b[0mb\u001b[0m \u001b[1;33m=\u001b[0m \u001b[0ma\u001b[0m\u001b[1;33m\u001b[0m\u001b[0m\n\u001b[1;32m----> 2\u001b[1;33m \u001b[0ma\u001b[0m\u001b[1;33m.\u001b[0m\u001b[0mresize\u001b[0m\u001b[1;33m(\u001b[0m\u001b[1;33m(\u001b[0m\u001b[1;36m4\u001b[0m\u001b[1;33m,\u001b[0m\u001b[1;33m)\u001b[0m\u001b[1;33m)\u001b[0m\u001b[1;33m\u001b[0m\u001b[0m\n\u001b[0m",
      "\u001b[1;31mValueError\u001b[0m: cannot resize an array that references or is referenced\nby another array in this way.  Use the resize function"
     ]
    }
   ],
   "source": [
    "b = a\n",
    "a.resize((4,))  "
   ]
  },
  {
   "cell_type": "markdown",
   "metadata": {},
   "source": [
    "### **练习：形状操控**\n",
    "* 查看 `reshape` 的文档，特别是其中的notes一节，有关于copy(副本)和view(视图)的信息.\n",
    "* 尝试用 `flatten` 作为 `ravel`的替代。两者有什么区别？ (提示: 检查一下哪个返回的是view，哪个返回的是copy).\n",
    "* 实验用 `transpose` 进行维度重排."
   ]
  },
  {
   "cell_type": "markdown",
   "metadata": {},
   "source": [
    "#### 1.3.2.5 数据排序\n",
    "\n",
    "* 沿某个轴排序："
   ]
  },
  {
   "cell_type": "code",
   "execution_count": 160,
   "metadata": {
    "run_control": {
     "frozen": false,
     "read_only": false
    }
   },
   "outputs": [
    {
     "data": {
      "text/plain": [
       "array([[3, 4, 5],\n",
       "       [1, 1, 2]])"
      ]
     },
     "execution_count": 160,
     "metadata": {},
     "output_type": "execute_result"
    }
   ],
   "source": [
    "a = np.array([[4, 3, 5], [1, 2, 1]])\n",
    "b = np.sort(a, axis=1)\n",
    "b"
   ]
  },
  {
   "cell_type": "markdown",
   "metadata": {
    "raw_mimetype": "text/x-python"
   },
   "source": [
    "**注**：各行独立进行排序！"
   ]
  },
  {
   "cell_type": "markdown",
   "metadata": {},
   "source": [
    "* in-place(就地)排序："
   ]
  },
  {
   "cell_type": "code",
   "execution_count": 161,
   "metadata": {
    "run_control": {
     "frozen": false,
     "read_only": false
    }
   },
   "outputs": [
    {
     "data": {
      "text/plain": [
       "array([[3, 4, 5],\n",
       "       [1, 1, 2]])"
      ]
     },
     "execution_count": 161,
     "metadata": {},
     "output_type": "execute_result"
    }
   ],
   "source": [
    "a.sort(axis=1)\n",
    "a"
   ]
  },
  {
   "cell_type": "markdown",
   "metadata": {},
   "source": [
    "* 用fancy index排序："
   ]
  },
  {
   "cell_type": "code",
   "execution_count": 162,
   "metadata": {
    "run_control": {
     "frozen": false,
     "read_only": false
    }
   },
   "outputs": [
    {
     "data": {
      "text/plain": [
       "array([2, 3, 1, 0], dtype=int64)"
      ]
     },
     "execution_count": 162,
     "metadata": {},
     "output_type": "execute_result"
    }
   ],
   "source": [
    "a = np.array([4, 3, 1, 2])\n",
    "j = np.argsort(a)\n",
    "j"
   ]
  },
  {
   "cell_type": "code",
   "execution_count": 163,
   "metadata": {
    "run_control": {
     "frozen": false,
     "read_only": false
    }
   },
   "outputs": [
    {
     "data": {
      "text/plain": [
       "array([1, 2, 3, 4])"
      ]
     },
     "execution_count": 163,
     "metadata": {},
     "output_type": "execute_result"
    }
   ],
   "source": [
    "a[j]"
   ]
  },
  {
   "cell_type": "markdown",
   "metadata": {},
   "source": [
    "* 找到最大值和最小值："
   ]
  },
  {
   "cell_type": "code",
   "execution_count": 164,
   "metadata": {
    "run_control": {
     "frozen": false,
     "read_only": false
    }
   },
   "outputs": [
    {
     "data": {
      "text/plain": [
       "(0, 2)"
      ]
     },
     "execution_count": 164,
     "metadata": {},
     "output_type": "execute_result"
    }
   ],
   "source": [
    "a = np.array([4, 3, 1, 2])\n",
    "j_max = np.argmax(a)\n",
    "j_min = np.argmin(a)\n",
    "j_max, j_min"
   ]
  },
  {
   "cell_type": "markdown",
   "metadata": {},
   "source": [
    "### **练习：排序**\n",
    "* 尝试in-place排序和非in-place排序.\n",
    "* 尝试用不同的数据类型创建array并排序.\n",
    "* 用 ``all`` 或者 ``array_equal`` 来检查结果.\n",
    "* 查看`np.random.shuffle`，这是一种更快地创建用于可排序输入的方法\n",
    "* 结合使用`ravel`, `sort` 和 `reshape`.\n",
    "* 查看`sort`函数的`axis`关键字，重新完成上面的练习."
   ]
  },
  {
   "cell_type": "markdown",
   "metadata": {},
   "source": [
    "#### 1.3.2.6 总结\n",
    "\n",
    "**入门你需要知道什么？**\n",
    "* 知道如何创建array：`array`, `arange`, `ones`, `zeros`.\n",
    "* 知道用 `array.shape` 得到array的形状，然后使用slice来获得array的不同视图：`array[::2]`等; 用 `reshape`改变array形状或者用 `ravel`将它扁平化.\n",
    "* 获取array元素的一个子集，和/或用mask修改他们的值\n",
    "\n",
    "```python\n",
    ">>> a[a < 0] = 0\n",
    "```\n",
    "\n",
    "* 知道array上的各种操作，比如找到均值或最大值 (`array.max()`, `array.mean()`)。不需要记住所有东西，但是应该有条件反射去搜索文档(线上文档, `help()`, `lookfor()`)!!\n",
    "* 更高级的用法：掌握利用整型数组索引，以及broadcasting。了解更多的Numpy函数以处理各种array操作。"
   ]
  },
  {
   "cell_type": "markdown",
   "metadata": {},
   "source": [
    "**快读阅读**\n",
    "\n",
    "如果你想要快速通过科学讲座笔记来学习生态系统，你可以直接跳到下一章：Matplotlib: 作图(暂缺)。\n",
    "\n",
    "作为概述，本章剩下的内容对于不是必须的。但是，记得回来完成本章并且完成更多的练习。"
   ]
  },
  {
   "cell_type": "markdown",
   "metadata": {},
   "source": [
    "### 1.3.3 关于array的更多阐述"
   ]
  },
  {
   "cell_type": "markdown",
   "metadata": {},
   "source": [
    "#### 1.3.3.1 更多的数据类型\n",
    "\n",
    "##### casting(转型)\n",
    "\n",
    "“较大”的类型在有混合类型的操作中胜出："
   ]
  },
  {
   "cell_type": "code",
   "execution_count": 165,
   "metadata": {
    "run_control": {
     "frozen": false,
     "read_only": false
    }
   },
   "outputs": [
    {
     "data": {
      "text/plain": [
       "array([ 2.5,  3.5,  4.5])"
      ]
     },
     "execution_count": 165,
     "metadata": {},
     "output_type": "execute_result"
    }
   ],
   "source": [
    "np.array([1, 2, 3]) + 1.5"
   ]
  },
  {
   "cell_type": "markdown",
   "metadata": {},
   "source": [
    "赋值从来不会改变类型！"
   ]
  },
  {
   "cell_type": "code",
   "execution_count": 166,
   "metadata": {
    "run_control": {
     "frozen": false,
     "read_only": false
    }
   },
   "outputs": [
    {
     "data": {
      "text/plain": [
       "dtype('int32')"
      ]
     },
     "execution_count": 166,
     "metadata": {},
     "output_type": "execute_result"
    }
   ],
   "source": [
    "a = np.array([1, 2, 3])\n",
    "a.dtype"
   ]
  },
  {
   "cell_type": "code",
   "execution_count": 167,
   "metadata": {
    "run_control": {
     "frozen": false,
     "read_only": false
    }
   },
   "outputs": [
    {
     "data": {
      "text/plain": [
       "array([1, 2, 3])"
      ]
     },
     "execution_count": 167,
     "metadata": {},
     "output_type": "execute_result"
    }
   ],
   "source": [
    "a[0] = 1.9     # <-- 浮点被截取为整数\n",
    "a"
   ]
  },
  {
   "cell_type": "markdown",
   "metadata": {},
   "source": [
    "强制cast(转换类型)："
   ]
  },
  {
   "cell_type": "code",
   "execution_count": 168,
   "metadata": {
    "run_control": {
     "frozen": false,
     "read_only": false
    }
   },
   "outputs": [
    {
     "data": {
      "text/plain": [
       "array([1, 1, 1])"
      ]
     },
     "execution_count": 168,
     "metadata": {},
     "output_type": "execute_result"
    }
   ],
   "source": [
    "a = np.array([1.7, 1.2, 1.6])\n",
    "b = a.astype(int)  # <-- 截取整数\n",
    "b"
   ]
  },
  {
   "cell_type": "markdown",
   "metadata": {},
   "source": [
    "四舍五入："
   ]
  },
  {
   "cell_type": "code",
   "execution_count": 169,
   "metadata": {
    "run_control": {
     "frozen": false,
     "read_only": false
    }
   },
   "outputs": [
    {
     "data": {
      "text/plain": [
       "array([ 1.,  2.,  2.,  2.,  4.,  4.])"
      ]
     },
     "execution_count": 169,
     "metadata": {},
     "output_type": "execute_result"
    }
   ],
   "source": [
    "a = np.array([1.2, 1.5, 1.6, 2.5, 3.5, 4.5])\n",
    "b = np.around(a)\n",
    "b                    # 仍然为浮点"
   ]
  },
  {
   "cell_type": "code",
   "execution_count": 170,
   "metadata": {
    "run_control": {
     "frozen": false,
     "read_only": false
    }
   },
   "outputs": [
    {
     "data": {
      "text/plain": [
       "array([1, 2, 2, 2, 4, 4])"
      ]
     },
     "execution_count": 170,
     "metadata": {},
     "output_type": "execute_result"
    }
   ],
   "source": [
    "c = np.around(a).astype(int)\n",
    "c"
   ]
  },
  {
   "cell_type": "markdown",
   "metadata": {},
   "source": [
    "##### 不同数据类型的大小"
   ]
  },
  {
   "cell_type": "markdown",
   "metadata": {},
   "source": [
    "整数 (带有符号):\n",
    "\n",
    "|类型\t|字节数|\n",
    "|-------|------|\n",
    "|int8\t|8 bits|\n",
    "|int16\t|16 bits|\n",
    "|int32\t|32 bits (与32位平台的int相同)|\n",
    "|int64\t|64 bits (与64位平台的int相同)|"
   ]
  },
  {
   "cell_type": "code",
   "execution_count": 171,
   "metadata": {
    "run_control": {
     "frozen": false,
     "read_only": false
    }
   },
   "outputs": [
    {
     "data": {
      "text/plain": [
       "dtype('int32')"
      ]
     },
     "execution_count": 171,
     "metadata": {},
     "output_type": "execute_result"
    }
   ],
   "source": [
    "np.array([1], dtype=int).dtype"
   ]
  },
  {
   "cell_type": "code",
   "execution_count": 172,
   "metadata": {
    "run_control": {
     "frozen": false,
     "read_only": false
    }
   },
   "outputs": [
    {
     "data": {
      "text/plain": [
       "(2147483647, 2147483647)"
      ]
     },
     "execution_count": 172,
     "metadata": {},
     "output_type": "execute_result"
    }
   ],
   "source": [
    "np.iinfo(np.int32).max, 2**31 - 1"
   ]
  },
  {
   "cell_type": "code",
   "execution_count": 173,
   "metadata": {
    "run_control": {
     "frozen": false,
     "read_only": false
    }
   },
   "outputs": [
    {
     "data": {
      "text/plain": [
       "(9223372036854775807, 9223372036854775807)"
      ]
     },
     "execution_count": 173,
     "metadata": {},
     "output_type": "execute_result"
    }
   ],
   "source": [
    "np.iinfo(np.int64).max, 2**63 - 1"
   ]
  },
  {
   "cell_type": "markdown",
   "metadata": {},
   "source": [
    "无符号整数:\n",
    "\n",
    "类型|字节数\n",
    "-|-\n",
    "uint8|8 bits\n",
    "uint16|16 bits\n",
    "uint32|32 bits\n",
    "uint64|64 bits"
   ]
  },
  {
   "cell_type": "code",
   "execution_count": 174,
   "metadata": {
    "run_control": {
     "frozen": false,
     "read_only": false
    }
   },
   "outputs": [
    {
     "data": {
      "text/plain": [
       "(4294967295, 4294967295)"
      ]
     },
     "execution_count": 174,
     "metadata": {},
     "output_type": "execute_result"
    }
   ],
   "source": [
    "np.iinfo(np.uint32).max, 2**32 - 1"
   ]
  },
  {
   "cell_type": "code",
   "execution_count": 175,
   "metadata": {
    "run_control": {
     "frozen": false,
     "read_only": false
    }
   },
   "outputs": [
    {
     "data": {
      "text/plain": [
       "(18446744073709551615, 18446744073709551615)"
      ]
     },
     "execution_count": 175,
     "metadata": {},
     "output_type": "execute_result"
    }
   ],
   "source": [
    "np.iinfo(np.uint64).max, 2**64 - 1"
   ]
  },
  {
   "cell_type": "markdown",
   "metadata": {},
   "source": [
    "浮点数据：\n",
    "\n",
    "类型|字节数\n",
    "-|-\n",
    "float16|16 bits\n",
    "float32|32 bits\n",
    "float64|64 bits (与浮点相同)\n",
    "float96|96 bits, 平台依赖 (与 `np.longdouble` 相同)\n",
    "float128|128 bits, 平台依赖 (与 `np.longdouble`相同)"
   ]
  },
  {
   "cell_type": "code",
   "execution_count": 176,
   "metadata": {
    "run_control": {
     "frozen": false,
     "read_only": false
    }
   },
   "outputs": [
    {
     "data": {
      "text/plain": [
       "1.1920929e-07"
      ]
     },
     "execution_count": 176,
     "metadata": {},
     "output_type": "execute_result"
    }
   ],
   "source": [
    "np.finfo(np.float32).eps"
   ]
  },
  {
   "cell_type": "code",
   "execution_count": 177,
   "metadata": {
    "run_control": {
     "frozen": false,
     "read_only": false
    }
   },
   "outputs": [
    {
     "data": {
      "text/plain": [
       "2.2204460492503131e-16"
      ]
     },
     "execution_count": 177,
     "metadata": {},
     "output_type": "execute_result"
    }
   ],
   "source": [
    "np.finfo(np.float64).eps"
   ]
  },
  {
   "cell_type": "code",
   "execution_count": 178,
   "metadata": {
    "run_control": {
     "frozen": false,
     "read_only": false
    }
   },
   "outputs": [
    {
     "data": {
      "text/plain": [
       "True"
      ]
     },
     "execution_count": 178,
     "metadata": {},
     "output_type": "execute_result"
    }
   ],
   "source": [
    "np.float32(1e-8) + np.float32(1) == 1"
   ]
  },
  {
   "cell_type": "code",
   "execution_count": 179,
   "metadata": {
    "run_control": {
     "frozen": false,
     "read_only": false
    }
   },
   "outputs": [
    {
     "data": {
      "text/plain": [
       "False"
      ]
     },
     "execution_count": 179,
     "metadata": {},
     "output_type": "execute_result"
    }
   ],
   "source": [
    "np.float64(1e-8) + np.float64(1) == 1"
   ]
  },
  {
   "cell_type": "markdown",
   "metadata": {},
   "source": [
    "浮点复数：\n",
    "\n",
    "类型|字节数\n",
    "-|-\n",
    "complex64|两个 32-bit 浮点\n",
    "complex128|两个 64-bit 浮点\n",
    "complex192|两个 96-bit 浮点, 平台依赖\n",
    "complex256|两个 128-bit 浮点, 平台依赖"
   ]
  },
  {
   "cell_type": "markdown",
   "metadata": {},
   "source": [
    "**更小的数据类型**\n",
    "\n",
    "如果你不知道需要特殊数据类型，那你可能就不需要。\n",
    "\n",
    "如果使用 `float32`，而不是`float64`，则：\n",
    "* 一半的内存和磁盘存储空间\n",
    "* 需要的内存通道带宽减半（可能在某些操作中会稍快一点）"
   ]
  },
  {
   "cell_type": "code",
   "execution_count": 180,
   "metadata": {
    "run_control": {
     "frozen": false,
     "read_only": false
    }
   },
   "outputs": [],
   "source": [
    "#a = np.zeros((1e6,), dtype=np.float64)\n",
    "#b = np.zeros((1e6,), dtype=np.float32)\n",
    "#%timeit a*a"
   ]
  },
  {
   "cell_type": "code",
   "execution_count": 181,
   "metadata": {
    "run_control": {
     "frozen": false,
     "read_only": false
    }
   },
   "outputs": [],
   "source": [
    "#%timeit b*b"
   ]
  },
  {
   "cell_type": "markdown",
   "metadata": {},
   "source": [
    "* 但是更大的四舍五入误差 - 有时在一些令人惊喜的地方（即，不要使用它们除非你真的需要）"
   ]
  },
  {
   "cell_type": "markdown",
   "metadata": {},
   "source": [
    "#### 1.3.3.2 结构化的数据类型"
   ]
  },
  {
   "cell_type": "markdown",
   "metadata": {},
   "source": [
    "名称|类型\n",
    "-|-\n",
    "sensor_code|(4个字母的字符)\n",
    "position|(浮点)\n",
    "value|(浮点)"
   ]
  },
  {
   "cell_type": "code",
   "execution_count": 182,
   "metadata": {
    "run_control": {
     "frozen": false,
     "read_only": false
    }
   },
   "outputs": [
    {
     "data": {
      "text/plain": [
       "1"
      ]
     },
     "execution_count": 182,
     "metadata": {},
     "output_type": "execute_result"
    }
   ],
   "source": [
    "samples = np.zeros((6,), dtype=[('sensor_code', 'S4'),('position', float), ('value', float)])\n",
    "samples.ndim"
   ]
  },
  {
   "cell_type": "code",
   "execution_count": 183,
   "metadata": {
    "run_control": {
     "frozen": false,
     "read_only": false
    }
   },
   "outputs": [
    {
     "data": {
      "text/plain": [
       "(6,)"
      ]
     },
     "execution_count": 183,
     "metadata": {},
     "output_type": "execute_result"
    }
   ],
   "source": [
    "samples.shape"
   ]
  },
  {
   "cell_type": "code",
   "execution_count": 184,
   "metadata": {
    "run_control": {
     "frozen": false,
     "read_only": false
    }
   },
   "outputs": [
    {
     "data": {
      "text/plain": [
       "('sensor_code', 'position', 'value')"
      ]
     },
     "execution_count": 184,
     "metadata": {},
     "output_type": "execute_result"
    }
   ],
   "source": [
    "samples.dtype.names"
   ]
  },
  {
   "cell_type": "code",
   "execution_count": 185,
   "metadata": {
    "run_control": {
     "frozen": false,
     "read_only": false
    }
   },
   "outputs": [
    {
     "data": {
      "text/plain": [
       "array([(b'ALFA',  1. ,  0.37), (b'BETA',  1. ,  0.11),\n",
       "       (b'TAU',  1. ,  0.13), (b'ALFA',  1.5,  0.37),\n",
       "       (b'ALFA',  3. ,  0.11), (b'TAU',  1.2,  0.13)],\n",
       "      dtype=[('sensor_code', 'S4'), ('position', '<f8'), ('value', '<f8')])"
      ]
     },
     "execution_count": 185,
     "metadata": {},
     "output_type": "execute_result"
    }
   ],
   "source": [
    "samples[:] = [('ALFA',   1, 0.37), ('BETA', 1, 0.11), ('TAU', 1,   0.13),('ALFA', 1.5, 0.37), ('ALFA', 3, 0.11),\n",
    "              ('TAU', 1.2, 0.13)]\n",
    "samples"
   ]
  },
  {
   "cell_type": "markdown",
   "metadata": {},
   "source": [
    "用字段名称索引也可以访问字段："
   ]
  },
  {
   "cell_type": "code",
   "execution_count": 186,
   "metadata": {
    "run_control": {
     "frozen": false,
     "read_only": false
    }
   },
   "outputs": [
    {
     "data": {
      "text/plain": [
       "array([b'ALFA', b'BETA', b'TAU', b'ALFA', b'ALFA', b'TAU'],\n",
       "      dtype='|S4')"
      ]
     },
     "execution_count": 186,
     "metadata": {},
     "output_type": "execute_result"
    }
   ],
   "source": [
    "samples['sensor_code']"
   ]
  },
  {
   "cell_type": "code",
   "execution_count": 187,
   "metadata": {
    "run_control": {
     "frozen": false,
     "read_only": false
    }
   },
   "outputs": [
    {
     "data": {
      "text/plain": [
       "array([ 0.37,  0.11,  0.13,  0.37,  0.11,  0.13])"
      ]
     },
     "execution_count": 187,
     "metadata": {},
     "output_type": "execute_result"
    }
   ],
   "source": [
    "samples['value']"
   ]
  },
  {
   "cell_type": "code",
   "execution_count": 188,
   "metadata": {
    "run_control": {
     "frozen": false,
     "read_only": false
    }
   },
   "outputs": [
    {
     "data": {
      "text/plain": [
       "(b'ALFA',  1.,  0.37)"
      ]
     },
     "execution_count": 188,
     "metadata": {},
     "output_type": "execute_result"
    }
   ],
   "source": [
    "samples[0]"
   ]
  },
  {
   "cell_type": "code",
   "execution_count": 189,
   "metadata": {
    "run_control": {
     "frozen": false,
     "read_only": false
    }
   },
   "outputs": [
    {
     "data": {
      "text/plain": [
       "(b'TAU',  1.,  0.37)"
      ]
     },
     "execution_count": 189,
     "metadata": {},
     "output_type": "execute_result"
    }
   ],
   "source": [
    "samples[0]['sensor_code'] = 'TAU'\n",
    "samples[0]"
   ]
  },
  {
   "cell_type": "markdown",
   "metadata": {},
   "source": [
    "一次多个字段："
   ]
  },
  {
   "cell_type": "code",
   "execution_count": 190,
   "metadata": {
    "run_control": {
     "frozen": false,
     "read_only": false
    }
   },
   "outputs": [
    {
     "data": {
      "text/plain": [
       "array([( 1. ,  0.37), ( 1. ,  0.11), ( 1. ,  0.13), ( 1.5,  0.37),\n",
       "       ( 3. ,  0.11), ( 1.2,  0.13)],\n",
       "      dtype=[('position', '<f8'), ('value', '<f8')])"
      ]
     },
     "execution_count": 190,
     "metadata": {},
     "output_type": "execute_result"
    }
   ],
   "source": [
    "samples[['position', 'value']]"
   ]
  },
  {
   "cell_type": "markdown",
   "metadata": {},
   "source": [
    "和普通情况一样，fancy索引也有效："
   ]
  },
  {
   "cell_type": "code",
   "execution_count": 191,
   "metadata": {
    "run_control": {
     "frozen": false,
     "read_only": false
    }
   },
   "outputs": [
    {
     "data": {
      "text/plain": [
       "array([], shape=(0, 6),\n",
       "      dtype=[('sensor_code', 'S4'), ('position', '<f8'), ('value', '<f8')])"
      ]
     },
     "execution_count": 191,
     "metadata": {},
     "output_type": "execute_result"
    }
   ],
   "source": [
    "samples[samples['sensor_code'] == 'ALFA']"
   ]
  },
  {
   "cell_type": "markdown",
   "metadata": {},
   "source": [
    "**注**：构建结构化array有需要其他的语言，见[这里](http://docs.scipy.org/doc/numpy/user/basics.rec.html)和[这里](http://docs.scipy.org/doc/numpy/reference/arrays.dtypes.html#specifying-and-constructing-data-types)。"
   ]
  },
  {
   "cell_type": "markdown",
   "metadata": {},
   "source": [
    "#### 1.3.3.3 遮盖array（maskedarray）: 处理缺失值（的传播）"
   ]
  },
  {
   "cell_type": "markdown",
   "metadata": {},
   "source": [
    "* 对于浮点不能用NaN，但是mask对所有类型都适用："
   ]
  },
  {
   "cell_type": "code",
   "execution_count": 192,
   "metadata": {
    "run_control": {
     "frozen": false,
     "read_only": false
    }
   },
   "outputs": [
    {
     "data": {
      "text/plain": [
       "masked_array(data = [1 -- 3 --],\n",
       "             mask = [False  True False  True],\n",
       "       fill_value = 999999)"
      ]
     },
     "execution_count": 192,
     "metadata": {},
     "output_type": "execute_result"
    }
   ],
   "source": [
    "x = np.ma.array([1, 2, 3, 4], mask=[0, 1, 0, 1])\n",
    "x"
   ]
  },
  {
   "cell_type": "code",
   "execution_count": 193,
   "metadata": {
    "run_control": {
     "frozen": false,
     "read_only": false
    }
   },
   "outputs": [
    {
     "data": {
      "text/plain": [
       "masked_array(data = [2 -- -- --],\n",
       "             mask = [False  True  True  True],\n",
       "       fill_value = 999999)"
      ]
     },
     "execution_count": 193,
     "metadata": {},
     "output_type": "execute_result"
    }
   ],
   "source": [
    "y = np.ma.array([1, 2, 3, 4], mask=[0, 1, 1, 1])\n",
    "x + y"
   ]
  },
  {
   "cell_type": "markdown",
   "metadata": {},
   "source": [
    "* 通用函数的mask版本："
   ]
  },
  {
   "cell_type": "code",
   "execution_count": 194,
   "metadata": {
    "run_control": {
     "frozen": false,
     "read_only": false
    }
   },
   "outputs": [
    {
     "data": {
      "text/plain": [
       "masked_array(data = [1.0 -- 1.4142135623730951 --],\n",
       "             mask = [False  True False  True],\n",
       "       fill_value = 1e+20)"
      ]
     },
     "execution_count": 194,
     "metadata": {},
     "output_type": "execute_result"
    }
   ],
   "source": [
    "np.ma.sqrt([1, -1, 2, -2])"
   ]
  },
  {
   "cell_type": "markdown",
   "metadata": {},
   "source": [
    "**注**：有许多其他array的[兄弟姐妹](2.2. 高级Numpy.ipynb)"
   ]
  },
  {
   "cell_type": "markdown",
   "metadata": {},
   "source": [
    "-----\n",
    "尽管这脱离了Numpy这章的主题，让我们花点时间回忆一下编写代码的最佳实践，从长远角度这绝对是值得的：\n",
    "\n",
    "**最佳实践**\n",
    "* 明确的变量名（不需要备注去解释变量里是什么）\n",
    "* 风格：逗号后及＝周围有空格等。\n",
    "\n",
    "    在[Python代码风格指南](http://www.python.org/dev/peps/pep-0008)及[文档字符串惯例](http://www.python.org/dev/peps/pep-0257)页面中给出了相当数据量如何书写“漂亮代码”的规则（并且，最重要的是，与其他人使用相同的惯例!）。\n",
    "* 除非在一些极特殊的情况下，变量名及备注用英文。\n",
    "\n",
    "### 1.3.4 高级操作\n",
    "\n",
    "1.3.4.1. 多项式\n",
    "\n",
    "Numpy也包含不同基的多项式：\n",
    "\n",
    "例如，$3x^2 + 2x - 1$:"
   ]
  },
  {
   "cell_type": "code",
   "execution_count": 195,
   "metadata": {
    "run_control": {
     "frozen": false,
     "read_only": false
    }
   },
   "outputs": [
    {
     "data": {
      "text/plain": [
       "-1"
      ]
     },
     "execution_count": 195,
     "metadata": {},
     "output_type": "execute_result"
    }
   ],
   "source": [
    "p = np.poly1d([3, 2, -1])\n",
    "p(0)"
   ]
  },
  {
   "cell_type": "code",
   "execution_count": 196,
   "metadata": {
    "run_control": {
     "frozen": false,
     "read_only": false
    }
   },
   "outputs": [
    {
     "data": {
      "text/plain": [
       "array([-1.        ,  0.33333333])"
      ]
     },
     "execution_count": 196,
     "metadata": {},
     "output_type": "execute_result"
    }
   ],
   "source": [
    "p.roots"
   ]
  },
  {
   "cell_type": "code",
   "execution_count": 197,
   "metadata": {
    "run_control": {
     "frozen": false,
     "read_only": false
    }
   },
   "outputs": [
    {
     "data": {
      "text/plain": [
       "2"
      ]
     },
     "execution_count": 197,
     "metadata": {},
     "output_type": "execute_result"
    }
   ],
   "source": [
    "p.order"
   ]
  },
  {
   "cell_type": "code",
   "execution_count": 198,
   "metadata": {
    "run_control": {
     "frozen": false,
     "read_only": false
    }
   },
   "outputs": [
    {
     "data": {
      "text/plain": [
       "[<matplotlib.lines.Line2D at 0xccd1ac8>,\n",
       " <matplotlib.lines.Line2D at 0xccd1c50>]"
      ]
     },
     "execution_count": 198,
     "metadata": {},
     "output_type": "execute_result"
    },
    {
     "data": {
      "image/png": "[encoded data removed]",
      "text/plain": [
       "<matplotlib.figure.Figure at 0xcc7e9b0>"
      ]
     },
     "metadata": {},
     "output_type": "display_data"
    }
   ],
   "source": [
    "x = np.linspace(0, 1, 20)\n",
    "y = np.cos(x) + 0.3*np.random.rand(20)\n",
    "p = np.poly1d(np.polyfit(x, y, 3))\n",
    "t = np.linspace(0, 1, 200)\n",
    "plt.plot(x, y, 'o', t, p(t), '-') "
   ]
  },
  {
   "cell_type": "markdown",
   "metadata": {},
   "source": [
    "更多内容见http://docs.scipy.org/doc/numpy/reference/routines.polynomials.poly1d.html。\n",
    "\n",
    "##### 更多多项式（有更多的基）\n",
    "\n",
    "Numpy也有更复杂的多项式接口，支持比如切比雪夫基。\n",
    "\n",
    "\\\\(3x^2 + 2x - 1\\\\):"
   ]
  },
  {
   "cell_type": "code",
   "execution_count": 199,
   "metadata": {
    "run_control": {
     "frozen": false,
     "read_only": false
    }
   },
   "outputs": [
    {
     "data": {
      "text/plain": [
       "-1.0"
      ]
     },
     "execution_count": 199,
     "metadata": {},
     "output_type": "execute_result"
    }
   ],
   "source": [
    "p = np.polynomial.Polynomial([-1, 2, 3]) # 系数的顺序不同！\n",
    "p(0)"
   ]
  },
  {
   "cell_type": "code",
   "execution_count": 200,
   "metadata": {
    "run_control": {
     "frozen": false,
     "read_only": false
    }
   },
   "outputs": [
    {
     "data": {
      "text/plain": [
       "array([-1.        ,  0.33333333])"
      ]
     },
     "execution_count": 200,
     "metadata": {},
     "output_type": "execute_result"
    }
   ],
   "source": [
    "p.roots()"
   ]
  },
  {
   "cell_type": "code",
   "execution_count": 201,
   "metadata": {
    "run_control": {
     "frozen": false,
     "read_only": false
    }
   },
   "outputs": [
    {
     "data": {
      "text/plain": [
       "2"
      ]
     },
     "execution_count": 201,
     "metadata": {},
     "output_type": "execute_result"
    }
   ],
   "source": [
    "p.degree()  # 在普通的多项式中通常不暴露'order'"
   ]
  },
  {
   "cell_type": "markdown",
   "metadata": {},
   "source": [
    "在切尔雪夫基中使用多项式的例子，多项式的范围在[-1,1]："
   ]
  },
  {
   "cell_type": "code",
   "execution_count": 202,
   "metadata": {
    "run_control": {
     "frozen": false,
     "read_only": false
    }
   },
   "outputs": [
    {
     "data": {
      "text/plain": [
       "[<matplotlib.lines.Line2D at 0xcca48d0>]"
      ]
     },
     "execution_count": 202,
     "metadata": {},
     "output_type": "execute_result"
    },
    {
     "data": {
      "image/png": "[encoded data removed]",
      "text/plain": [
       "<matplotlib.figure.Figure at 0xcc7ee10>"
      ]
     },
     "metadata": {},
     "output_type": "display_data"
    }
   ],
   "source": [
    "x = np.linspace(-1, 1, 2000)\n",
    "y = np.cos(x) + 0.3*np.random.rand(2000)\n",
    "p = np.polynomial.Chebyshev.fit(x, y, 90)\n",
    "t = np.linspace(-1, 1, 200)\n",
    "plt.plot(x, y, 'r.')  \n",
    "plt.plot(t, p(t), 'k-', lw=3) "
   ]
  },
  {
   "cell_type": "markdown",
   "metadata": {},
   "source": [
    "切尔雪夫多项式在插入方面有很多优势。\n",
    "\n",
    "#### 1.3.4.2 加载数据文件\n",
    "\n",
    "##### 文本文件\n",
    "\n",
    "例子: [populations.txt](http://scipy-lectures.github.io/_downloads/populations.txt):\n",
    "\n",
    "```\n",
    "# year  hare    lynx    carrot\n",
    "1900    30e3    4e3     48300\n",
    "1901    47.2e3  6.1e3   48200\n",
    "1902    70.2e3  9.8e3   41500\n",
    "1903    77.4e3  35.2e3  38200\n",
    "```"
   ]
  },
  {
   "cell_type": "code",
   "execution_count": 203,
   "metadata": {
    "run_control": {
     "frozen": false,
     "read_only": false
    }
   },
   "outputs": [
    {
     "data": {
      "text/plain": [
       "array([[  1900.,  30000.,   4000.,  48300.],\n",
       "       [  1901.,  47200.,   6100.,  48200.],\n",
       "       [  1902.,  70200.,   9800.,  41500.],\n",
       "       [  1903.,  77400.,  35200.,  38200.],\n",
       "       [  1904.,  36300.,  59400.,  40600.],\n",
       "       [  1905.,  20600.,  41700.,  39800.],\n",
       "       [  1906.,  18100.,  19000.,  38600.],\n",
       "       [  1907.,  21400.,  13000.,  42300.],\n",
       "       [  1908.,  22000.,   8300.,  44500.],\n",
       "       [  1909.,  25400.,   9100.,  42100.],\n",
       "       [  1910.,  27100.,   7400.,  46000.],\n",
       "       [  1911.,  40300.,   8000.,  46800.],\n",
       "       [  1912.,  57000.,  12300.,  43800.],\n",
       "       [  1913.,  76600.,  19500.,  40900.],\n",
       "       [  1914.,  52300.,  45700.,  39400.],\n",
       "       [  1915.,  19500.,  51100.,  39000.],\n",
       "       [  1916.,  11200.,  29700.,  36700.],\n",
       "       [  1917.,   7600.,  15800.,  41800.],\n",
       "       [  1918.,  14600.,   9700.,  43300.],\n",
       "       [  1919.,  16200.,  10100.,  41300.],\n",
       "       [  1920.,  24700.,   8600.,  47300.]])"
      ]
     },
     "execution_count": 203,
     "metadata": {},
     "output_type": "execute_result"
    }
   ],
   "source": [
    "data = np.loadtxt('data/populations.txt')\n",
    "data"
   ]
  },
  {
   "cell_type": "code",
   "execution_count": 204,
   "metadata": {
    "collapsed": true,
    "run_control": {
     "frozen": false,
     "read_only": false
    }
   },
   "outputs": [],
   "source": [
    "np.savetxt('pop2.txt', data)\n",
    "data2 = np.loadtxt('pop2.txt')"
   ]
  },
  {
   "cell_type": "markdown",
   "metadata": {},
   "source": [
    "**注**：如果你有一个复杂的文本文件，应该尝试：\n",
    "* `np.genfromtxt`\n",
    "* 使用Python的I/O函数和例如正则式来解析（Python特别适合这个工作）\n",
    "\n",
    "**提示：用IPython在文件系统中航行**"
   ]
  },
  {
   "cell_type": "code",
   "execution_count": 205,
   "metadata": {
    "run_control": {
     "frozen": false,
     "read_only": false
    }
   },
   "outputs": [
    {
     "data": {
      "text/plain": [
       "'E:\\\\git-trial\\\\course\\\\scipy-lecture-notes_cn'"
      ]
     },
     "execution_count": 205,
     "metadata": {},
     "output_type": "execute_result"
    }
   ],
   "source": [
    "pwd      # 显示当前目录"
   ]
  },
  {
   "cell_type": "code",
   "execution_count": 206,
   "metadata": {
    "run_control": {
     "frozen": false,
     "read_only": false
    }
   },
   "outputs": [
    {
     "name": "stdout",
     "output_type": "stream",
     "text": [
      "E:\\git-trial\\course\\scipy-lecture-notes_cn\\data\n"
     ]
    }
   ],
   "source": [
    "cd data"
   ]
  },
  {
   "cell_type": "code",
   "execution_count": 207,
   "metadata": {
    "run_control": {
     "frozen": false,
     "read_only": false
    }
   },
   "outputs": [
    {
     "name": "stdout",
     "output_type": "stream",
     "text": [
      " 驱动器 E 中的卷是 硬盘\n",
      " 卷的序列号是 E0D5-1873\n",
      "\n",
      " E:\\git-trial\\course\\scipy-lecture-notes_cn\\data 的目录\n",
      "\n",
      "2017/11/30  09:54    <DIR>          .\n",
      "2017/11/30  09:54    <DIR>          ..\n",
      "2017/11/29  15:33           108,883 elephant.png\n",
      "2017/11/29  15:33               576 LICENCE.txt\n",
      "2017/11/29  15:33               164 max-speeds.npy\n",
      "2017/11/29  15:33           216,481 moonlanding.png\n",
      "2017/11/29  15:33           164,418 MV_HFV_012.jpg\n",
      "2017/11/29  15:33               154 organisms.txt\n",
      "2017/11/29  15:33               547 populations.txt\n",
      "2017/11/29  15:33                65 species.txt\n",
      "2017/11/29  15:33               591 test.png\n",
      "2017/11/29  15:33            17,410 test.wav\n",
      "2017/11/29  15:33               591 test2.png\n",
      "2017/11/29  15:33               160 waveform_1.npy\n",
      "2017/11/29  15:33               160 waveform_2.npy\n",
      "2017/11/29  15:33               683 women_percentage.txt\n",
      "              14 个文件        510,883 字节\n",
      "               2 个目录 167,322,484,736 可用字节\n"
     ]
    }
   ],
   "source": [
    "ls"
   ]
  },
  {
   "cell_type": "markdown",
   "metadata": {},
   "source": [
    "##### 图像\n",
    "\n",
    "使用Matplotlib："
   ]
  },
  {
   "cell_type": "code",
   "execution_count": 208,
   "metadata": {
    "run_control": {
     "frozen": false,
     "read_only": false
    }
   },
   "outputs": [
    {
     "ename": "FileNotFoundError",
     "evalue": "[Errno 2] No such file or directory: 'data/elephant.png'",
     "output_type": "error",
     "traceback": [
      "\u001b[1;31m---------------------------------------------------------------------------\u001b[0m",
      "\u001b[1;31mFileNotFoundError\u001b[0m                         Traceback (most recent call last)",
      "\u001b[1;32m<ipython-input-208-fa9a54f06c7c>\u001b[0m in \u001b[0;36m<module>\u001b[1;34m()\u001b[0m\n\u001b[1;32m----> 1\u001b[1;33m \u001b[0mimg\u001b[0m \u001b[1;33m=\u001b[0m \u001b[0mplt\u001b[0m\u001b[1;33m.\u001b[0m\u001b[0mimread\u001b[0m\u001b[1;33m(\u001b[0m\u001b[1;34m'data/elephant.png'\u001b[0m\u001b[1;33m)\u001b[0m\u001b[1;33m\u001b[0m\u001b[0m\n\u001b[0m\u001b[0;32m      2\u001b[0m \u001b[0mimg\u001b[0m\u001b[1;33m.\u001b[0m\u001b[0mshape\u001b[0m\u001b[1;33m,\u001b[0m \u001b[0mimg\u001b[0m\u001b[1;33m.\u001b[0m\u001b[0mdtype\u001b[0m\u001b[1;33m\u001b[0m\u001b[0m\n",
      "\u001b[1;32md:\\program files\\python 3.5\\lib\\site-packages\\matplotlib\\pyplot.py\u001b[0m in \u001b[0;36mimread\u001b[1;34m(*args, **kwargs)\u001b[0m\n\u001b[0;32m   2312\u001b[0m \u001b[1;33m@\u001b[0m\u001b[0mdocstring\u001b[0m\u001b[1;33m.\u001b[0m\u001b[0mcopy_dedent\u001b[0m\u001b[1;33m(\u001b[0m\u001b[0m_imread\u001b[0m\u001b[1;33m)\u001b[0m\u001b[1;33m\u001b[0m\u001b[0m\n\u001b[0;32m   2313\u001b[0m \u001b[1;32mdef\u001b[0m \u001b[0mimread\u001b[0m\u001b[1;33m(\u001b[0m\u001b[1;33m*\u001b[0m\u001b[0margs\u001b[0m\u001b[1;33m,\u001b[0m \u001b[1;33m**\u001b[0m\u001b[0mkwargs\u001b[0m\u001b[1;33m)\u001b[0m\u001b[1;33m:\u001b[0m\u001b[1;33m\u001b[0m\u001b[0m\n\u001b[1;32m-> 2314\u001b[1;33m     \u001b[1;32mreturn\u001b[0m \u001b[0m_imread\u001b[0m\u001b[1;33m(\u001b[0m\u001b[1;33m*\u001b[0m\u001b[0margs\u001b[0m\u001b[1;33m,\u001b[0m \u001b[1;33m**\u001b[0m\u001b[0mkwargs\u001b[0m\u001b[1;33m)\u001b[0m\u001b[1;33m\u001b[0m\u001b[0m\n\u001b[0m\u001b[0;32m   2315\u001b[0m \u001b[1;33m\u001b[0m\u001b[0m\n\u001b[0;32m   2316\u001b[0m \u001b[1;33m\u001b[0m\u001b[0m\n",
      "\u001b[1;32md:\\program files\\python 3.5\\lib\\site-packages\\matplotlib\\image.py\u001b[0m in \u001b[0;36mimread\u001b[1;34m(fname, format)\u001b[0m\n\u001b[0;32m   1295\u001b[0m             \u001b[1;32mreturn\u001b[0m \u001b[0mhandler\u001b[0m\u001b[1;33m(\u001b[0m\u001b[0mfd\u001b[0m\u001b[1;33m)\u001b[0m\u001b[1;33m\u001b[0m\u001b[0m\n\u001b[0;32m   1296\u001b[0m         \u001b[1;32melse\u001b[0m\u001b[1;33m:\u001b[0m\u001b[1;33m\u001b[0m\u001b[0m\n\u001b[1;32m-> 1297\u001b[1;33m             \u001b[1;32mwith\u001b[0m \u001b[0mopen\u001b[0m\u001b[1;33m(\u001b[0m\u001b[0mfname\u001b[0m\u001b[1;33m,\u001b[0m \u001b[1;34m'rb'\u001b[0m\u001b[1;33m)\u001b[0m \u001b[1;32mas\u001b[0m \u001b[0mfd\u001b[0m\u001b[1;33m:\u001b[0m\u001b[1;33m\u001b[0m\u001b[0m\n\u001b[0m\u001b[0;32m   1298\u001b[0m                 \u001b[1;32mreturn\u001b[0m \u001b[0mhandler\u001b[0m\u001b[1;33m(\u001b[0m\u001b[0mfd\u001b[0m\u001b[1;33m)\u001b[0m\u001b[1;33m\u001b[0m\u001b[0m\n\u001b[0;32m   1299\u001b[0m     \u001b[1;32melse\u001b[0m\u001b[1;33m:\u001b[0m\u001b[1;33m\u001b[0m\u001b[0m\n",
      "\u001b[1;31mFileNotFoundError\u001b[0m: [Errno 2] No such file or directory: 'data/elephant.png'"
     ]
    }
   ],
   "source": [
    "img = plt.imread('data/elephant.png')\n",
    "img.shape, img.dtype"
   ]
  },
  {
   "cell_type": "code",
   "execution_count": null,
   "metadata": {
    "run_control": {
     "frozen": false,
     "read_only": false
    }
   },
   "outputs": [],
   "source": [
    "plt.imshow(img)"
   ]
  },
  {
   "cell_type": "code",
   "execution_count": null,
   "metadata": {
    "run_control": {
     "frozen": false,
     "read_only": false
    }
   },
   "outputs": [],
   "source": [
    "plt.savefig('plot.png')\n",
    "plt.imsave('red_elephant', img[:,:,0], cmap=plt.cm.gray)"
   ]
  },
  {
   "cell_type": "markdown",
   "metadata": {},
   "source": [
    "这只保存了一个渠道（RGB）："
   ]
  },
  {
   "cell_type": "code",
   "execution_count": null,
   "metadata": {
    "run_control": {
     "frozen": false,
     "read_only": false
    }
   },
   "outputs": [],
   "source": [
    "plt.imshow(plt.imread('red_elephant.png')) "
   ]
  },
  {
   "cell_type": "markdown",
   "metadata": {},
   "source": [
    "其他包："
   ]
  },
  {
   "cell_type": "code",
   "execution_count": null,
   "metadata": {
    "run_control": {
     "frozen": false,
     "read_only": false
    }
   },
   "outputs": [],
   "source": [
    "from scipy.misc import imsave\n",
    "imsave('tiny_elephant.png', img[::6,::6])\n",
    "plt.imshow(plt.imread('tiny_elephant.png'), interpolation='nearest')"
   ]
  },
  {
   "cell_type": "markdown",
   "metadata": {},
   "source": [
    "##### Numpy的自有格式\n",
    "\n",
    "Numpy有自有的二进制格式，没有便携性但是I/O高效："
   ]
  },
  {
   "cell_type": "code",
   "execution_count": null,
   "metadata": {
    "collapsed": true,
    "run_control": {
     "frozen": false,
     "read_only": false
    }
   },
   "outputs": [],
   "source": [
    "data = np.ones((3, 3))\n",
    "np.save('pop.npy', data)\n",
    "data3 = np.load('pop.npy')"
   ]
  },
  {
   "cell_type": "markdown",
   "metadata": {},
   "source": [
    "##### 知名的（并且更复杂的）文件格式\n",
    "\n",
    "* HDF5: [h5py](http://code.google.com/p/h5py/), [PyTables](http://pytables.org/)\n",
    "* NetCDF: `scipy.io.netcdf_file`, [netcdf4-python](http://code.google.com/p/netcdf4-python/), ...\n",
    "* Matlab: `scipy.io.loadmat`, `scipy.io.savemat`\n",
    "* MatrixMarket: `scipy.io.mmread`, `scipy.io.mmread`\n",
    "\n",
    "... 如果有人使用，那么就可能有一个对应的Python库。\n",
    "\n",
    "**练习：文本数据文件**\n",
    "\n",
    "写一个Python脚本从[populations.txt](http://scipy-lectures.github.io/_downloads/populations.txt)加载数据，删除前五行和后五行。将这个小数据集存入 `pop2.txt`。\n",
    "\n",
    "**Numpy内部**\n",
    "\n",
    "如果你对Numpy的内部感兴趣, 有一个关于[Advanced Numpy](http://scipy-lectures.github.io/advanced/advanced_numpy/index.html#advanced-numpy)的很好的讨论。\n",
    "\n",
    "### 1.3.5 一些练习\n",
    "\n",
    "#### 1.3.5.1 array操作\n",
    "\n",
    "* 从2D array（不需要显示的输入）:\n",
    "\n",
    "```\n",
    "[[1,  6, 11],\n",
    " [2,  7, 12],\n",
    " [3,  8, 13],\n",
    " [4,  9, 14],\n",
    " [5, 10, 15]]\n",
    "```\n",
    "\n",
    "并且生成一个第二和第四行的新array。 \n",
    "\n",
    "* 将array a的每一列以元素的方式除以array b (提示: `np.newaxis`): "
   ]
  },
  {
   "cell_type": "code",
   "execution_count": null,
   "metadata": {
    "collapsed": true,
    "run_control": {
     "frozen": false,
     "read_only": false
    }
   },
   "outputs": [],
   "source": [
    "a = np.arange(25).reshape(5, 5)\n",
    "b = np.array([1., 5, 10, 15, 20])"
   ]
  },
  {
   "cell_type": "markdown",
   "metadata": {},
   "source": [
    "* 难一点的题目：创建10 X 3的随机数array （在[0, 1]的范围内）。对于每一行，挑出最接近0.5的数。\n",
    "    * 用 `abs`和 `argsort`找到每一行中最接近的列 `j`。\n",
    "    * 使用fancy索引抽取数字。（提示：a[i,j] - array `i` 必须包含 `j` 中成分的对应行数）\n",
    "    \n",
    "#### 1.3.5.2 图片操作：给Lena加边框\n",
    "\n",
    "让我们从著名的Lena图（http://www.cs.cmu.edu/~chuck/lennapg/） 上开始，用Numpy array做一些操作。Scipy在 `scipy.lena`函数中提供了这个图的二维array："
   ]
  },
  {
   "cell_type": "code",
   "execution_count": null,
   "metadata": {
    "collapsed": true,
    "run_control": {
     "frozen": false,
     "read_only": false
    }
   },
   "outputs": [],
   "source": [
    "from scipy import misc\n",
    "lena = misc.lena()"
   ]
  },
  {
   "cell_type": "markdown",
   "metadata": {},
   "source": [
    "**注**：在旧版的scipy中，你会在 `scipy.lena()`找到lena。\n",
    "\n",
    "这是一些通过我们的操作可以获得图片：使用不同的颜色地图，裁剪图片，改变图片的一部分。\n",
    "\n",
    "<img src=\"data:image/png;base64,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\" alt=\"lenas.png\"></img>\n",
    "\n",
    "* 让我们用pylab的``imshow``函数显示这个图片。"
   ]
  },
  {
   "cell_type": "code",
   "execution_count": null,
   "metadata": {
    "run_control": {
     "frozen": false,
     "read_only": false
    }
   },
   "outputs": [],
   "source": [
    "import pylab as plt\n",
    "lena = misc.lena()\n",
    "plt.imshow(lena)"
   ]
  },
  {
   "cell_type": "markdown",
   "metadata": {},
   "source": [
    "* Lena然后以为色彩显示。要将她展示为灰色需要指定一个颜色地图。"
   ]
  },
  {
   "cell_type": "code",
   "execution_count": null,
   "metadata": {
    "run_control": {
     "frozen": false,
     "read_only": false
    }
   },
   "outputs": [],
   "source": [
    "plt.imshow(lena, cmap=plt.cm.gray)"
   ]
  },
  {
   "cell_type": "markdown",
   "metadata": {},
   "source": [
    "* 用一个更小的图片中心来创建array：例如，从图像边缘删除30像素。要检查结果，用 `imshow` 显示这个新array。"
   ]
  },
  {
   "cell_type": "code",
   "execution_count": null,
   "metadata": {
    "collapsed": true,
    "run_control": {
     "frozen": false,
     "read_only": false
    }
   },
   "outputs": [],
   "source": [
    "crop_lena = lena[30:-30,30:-30]"
   ]
  },
  {
   "cell_type": "markdown",
   "metadata": {},
   "source": [
    "* 现在我们为Lena的脸加一个黑色项链形边框。要做到这一点，需要创建一个mask对应于需要变成黑色的像素。这个mask由如下条件定义 `(y-256)**2 + (x-256)**2`"
   ]
  },
  {
   "cell_type": "code",
   "execution_count": null,
   "metadata": {
    "run_control": {
     "frozen": false,
     "read_only": false
    }
   },
   "outputs": [],
   "source": [
    "y, x = np.ogrid[0:512,0:512] # x 和 y 像素索引\n",
    "y.shape, x.shape"
   ]
  },
  {
   "cell_type": "code",
   "execution_count": null,
   "metadata": {
    "collapsed": true,
    "run_control": {
     "frozen": false,
     "read_only": false
    }
   },
   "outputs": [],
   "source": [
    "centerx, centery = (256, 256) # 图像中心\n",
    "mask = ((y - centery)**2 + (x - centerx)**2) > 230**2 # 圆形"
   ]
  },
  {
   "cell_type": "markdown",
   "metadata": {},
   "source": [
    "接下来我们为mask对应的图片像素赋值为0。语句非常简单并且直觉化："
   ]
  },
  {
   "cell_type": "code",
   "execution_count": null,
   "metadata": {
    "run_control": {
     "frozen": false,
     "read_only": false
    }
   },
   "outputs": [],
   "source": [
    "lena[mask] = 0\n",
    "plt.imshow(lena)"
   ]
  },
  {
   "cell_type": "markdown",
   "metadata": {},
   "source": [
    "* 接下来：将这个练习的所有命令复制到 `lena_locket.py` 脚本中，并且在IPython中用 `%run lena_locket.py`执行这个脚本，将圆形改为椭圆。\n",
    "\n",
    "#### 1.3.5.3 数据统计\n",
    "\n",
    "[populations.txt](http://scipy-lectures.github.io/_downloads/populations.txt)中的数据描述了野兔和猞猁（以及胡萝卜）在加拿大北部过去十年的数量："
   ]
  },
  {
   "cell_type": "code",
   "execution_count": null,
   "metadata": {
    "run_control": {
     "frozen": false,
     "read_only": false
    }
   },
   "outputs": [],
   "source": [
    "data = np.loadtxt('data/populations.txt')\n",
    "year, hares, lynxes, carrots = data.T  # 技巧: 列到变量\n",
    "plt.axes([0.2, 0.1, 0.5, 0.8]) \n",
    "plt.plot(year, hares, year, lynxes, year, carrots) \n",
    "plt.legend(('Hare', 'Lynx', 'Carrot'), loc=(1.05, 0.5)) "
   ]
  },
  {
   "cell_type": "markdown",
   "metadata": {},
   "source": [
    "根据[populations.txt](http://scipy-lectures.github.io/_downloads/populations.txt)中的数据计算并打印...\n",
    "\n",
    "1. 每个物种在这个时间段内的数量平均数及标准差。\n",
    "2. 每个物种在哪一年数量最多。\n",
    "3. 每一年哪个物种数量最多。（提示：`np.array(['H', 'L', 'C'])`的`argsort` 和fancy索引）\n",
    "4. 哪一年数量超过50000。（提示：比较和 `np.any`）\n",
    "5. 每个物种有最少数量的两年。（提示： `argsort`、fancy索引）\n",
    "6. 比较（作图）野兔和猞猁总量的变化（看一下 `help(np.gradient)`）。看一下相关（见 `help(np.corrcoef)`）。\n",
    "\n",
    "... 所有都不应该使用for循环。\n",
    "\n",
    "答案：[Python源文件](http://scipy-lectures.github.io/_downloads/2_2_data_statistics.py)\n",
    "\n",
    "#### 1.3.5.4 粗略积分估计\n",
    "\n",
    "写一个函数  ``f(a, b, c)`` 返回$a^b - c$。构造一个`24x12x6` array，其值参数范围为[0,1] x [0,1] x [0,1]。\n",
    "\n",
    "接近的3-D积分\n",
    "\n",
    "$$\\int_0^1\\int_0^1\\int_0^1(a^b-c)da\\,db\\,dc$$\n",
    "\n",
    "在这个体积之上有相同的平均数。准确的结果是$\\ln 2 -\n",
    "\\frac{1}{2}\\approx0.1931\\ldots$... - 你的相对误差是多少？\n",
    "\n",
    "（技巧：使用元素级别的操作和广播。你可以用 `np.ogrid` 获得在 `np.ogrid[0:1:20j]` 范围内的数据点。）\n",
    "\n",
    "**提醒**Python函数："
   ]
  },
  {
   "cell_type": "code",
   "execution_count": null,
   "metadata": {
    "collapsed": true,
    "run_control": {
     "frozen": false,
     "read_only": false
    }
   },
   "outputs": [],
   "source": [
    "def f(a, b, c):\n",
    "    return some_result"
   ]
  },
  {
   "cell_type": "markdown",
   "metadata": {},
   "source": [
    "答案：[Python源文件](http://scipy-lectures.github.io/_downloads/2_3_crude_integration.py)\n",
    "\n",
    "#### 1.3.5.5 Mandelbrot集合\n",
    "\n",
    "<img src=\"data:image/png;base64,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\" alt=\"2_4_mandelbrot.png\"></img>\n",
    "\n",
    "写一个脚本计算Mandelbrot分形。Mandelbrot迭代\n",
    "\n",
    "```python\n",
    "N_max = 50\n",
    "some_threshold = 50\n",
    "c = x + 1j*y\n",
    "for j in xrange(N_max):\n",
    "    z = z**2 + c\n",
    "```\n",
    "\n",
    "点（x, y）属于Mandelbrot集合，如果|c| < some_threshold。\n",
    "\n",
    "作如下计算：\n",
    "\n",
    "* 构建一个网格 c = x + 1j\\*y， 值在范围[-2, 1] x [-1.5, 1.5]\n",
    "* 进行迭代\n",
    "* 构建2-D bool mask标识输入集合中的点\n",
    "* 用下列方法将结果保存到图片：\n",
    "\n",
    "```python\n",
    "import matplotlib.pyplot as plt\n",
    "plt.imshow(mask.T, extent=[-2, 1, -1.5, 1.5]) \n",
    "plt.gray()\n",
    "plt.savefig('mandelbrot.png')\n",
    "```\n",
    "\n",
    "答案：[Python源文件](http://scipy-lectures.github.io/_downloads/2_4_mandelbrot.py)\n",
    "\n",
    "#### 1.3.5.6 马尔科夫链\n",
    "\n",
    "<img src=\"data:image/png;base64,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\" alt=\"markov-chain.png\"></img>\n",
    "\n",
    "马尔可夫链过渡矩阵P以及在状态p的概率分布：\n",
    "1. `0 <= P[i,j] <= 1`：从状态i变化到j的概率\n",
    "2. 过度规则： $p_{new} = P^T p_{old}$\n",
    "3. `all(sum(P, axis=1) == 1)`, `p.sum() == 1`: 正态化\n",
    "\n",
    "写一个脚本产生五种状态，并且：\n",
    "* 构建一个随机矩阵，正态化每一行，以便它是过度矩阵。\n",
    "* 从一个随机（正态化）概率分布`p`开始，并且进行50步=> `p_50`\n",
    "* 计算稳定分布：P.T的特征值为1的特征向量（在数字上最接近1）=> `p_stationary`\n",
    "\n",
    "记住正态化向量 - 我并没有...\n",
    "* 检查一下 `p_50` 和 `p_stationary`是否等于公差1e-5\n",
    "\n",
    "工具箱：`np.random.rand`、 `.dot()`、`np.linalg.eig`、reductions、`abs()`、`argmin`、comparisons、`all`、`np.linalg.norm`等。\n",
    "\n",
    "答案：[Python源文件](http://scipy-lectures.github.io/_downloads/2_5_markov_chain.py)"
   ]
  }
 ],
 "metadata": {
  "celltoolbar": "Raw Cell Format",
  "kernelspec": {
   "display_name": "Python 3",
   "language": "python",
   "name": "python3"
  },
  "language_info": {
   "codemirror_mode": {
    "name": "ipython",
    "version": 3
   },
   "file_extension": ".py",
   "mimetype": "text/x-python",
   "name": "python",
   "nbconvert_exporter": "python",
   "pygments_lexer": "ipython3",
   "version": "3.5.0"
  }
 },
 "nbformat": 4,
 "nbformat_minor": 1
}
